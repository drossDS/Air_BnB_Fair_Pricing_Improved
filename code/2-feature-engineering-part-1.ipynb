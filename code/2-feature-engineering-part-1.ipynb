{
 "cells": [
  {
   "cell_type": "markdown",
   "id": "8a261529-540a-4e19-b1e6-567e4ee89ddb",
   "metadata": {
    "tags": []
   },
   "source": [
    "---\n",
    "# NOTEBOOK 2 - FEATURE ENGINEERING PART 1:\n",
    "## Creating and Evaluating New Features\n",
    "---"
   ]
  },
  {
   "cell_type": "markdown",
   "id": "24cd7594-5680-4d46-942e-e575c1d52bfe",
   "metadata": {},
   "source": [
    "# PROJECT : Boston Airbnb Fair Pricing Tool and Recommender"
   ]
  },
  {
   "cell_type": "markdown",
   "id": "fed2ce4c-11ae-4c51-b051-a45e7154ed99",
   "metadata": {
    "tags": []
   },
   "source": [
    "# Feature Enginering Part 1:\n",
    "From the previous notebook, a few features were ommited from analysis due to their complexity.  They will be evaluated here.\n",
    "\n",
    "Per the previous notebook:\n",
    "\n",
    "# Remaining Features\n",
    "The remaining features which have not yet been investigated are provided as follows, along with a brief plan to evaluate each of those features:\n",
    "* amenities\n",
    "    * These need to be separated out into the individual amenities, counted up, and one hot encoded\n",
    "* description\n",
    "    * This will require some manual examination and NLP techniques to attempt to find useful features\n",
    "* host_about\n",
    "    * This will require some manual examination and NLP techniques to attempt to find useful features\n",
    "* name\n",
    "    * This will require some manual examination and NLP techniques to attempt to find useful features\n",
    "* neighborhood_overview\n",
    "    * This will require some manual examination and NLP techniques to attempt to find useful features\n",
    "    \n",
    "    \n",
    "## The features below were not able to be explored in this phase of the project and will be explored in subsequent iteration:\n",
    "* host_location\n",
    "    * This will need to be combined with host_neighbourhood and encoded accordingly\n",
    "* host_neighbourhood\n",
    "    * This will need to be combined with host_location and encoded accordingly\n",
    "* license\n",
    "    * This will require come NLP techniques to extract similar values"
   ]
  },
  {
   "cell_type": "markdown",
   "id": "dc647cae-2c89-4f96-9210-e987e2a81da3",
   "metadata": {},
   "source": [
    "# 1 - Library Imports, Read Data, and Examine Dataframe"
   ]
  },
  {
   "cell_type": "code",
   "execution_count": 1,
   "id": "2079961f-7e4d-4c37-86ec-e72388bbad75",
   "metadata": {},
   "outputs": [],
   "source": [
    "# Basic Imports\n",
    "import pandas as pd\n",
    "import numpy as np\n",
    "import matplotlib.pyplot as plt\n",
    "import seaborn as sns\n",
    "\n",
    "# For tesxt:\n",
    "import re\n",
    "\n",
    "# For times:\n",
    "import time\n",
    "\n",
    "# Set a random seed for imputation\n",
    "#  Source:  https://numpy.org/doc/stable/reference/random/generated/numpy.random.seed.html\n",
    "np.random.seed(42)\n",
    "\n",
    "# Sklearn\n",
    "from sklearn.model_selection import train_test_split\n",
    "from sklearn.impute import SimpleImputer\n",
    "from sklearn.feature_extraction.text import CountVectorizer"
   ]
  },
  {
   "cell_type": "code",
   "execution_count": 2,
   "id": "836c6df1-42cc-47d3-97d3-a7219a6d2086",
   "metadata": {},
   "outputs": [],
   "source": [
    "# keep the same dataframe name as in the previous notebook\n",
    "lstn = pd.read_csv('../data/listings_train_2.csv')"
   ]
  },
  {
   "cell_type": "code",
   "execution_count": 3,
   "id": "69fc9432-4f58-4472-8169-404b2f85a1d9",
   "metadata": {},
   "outputs": [
    {
     "name": "stdout",
     "output_type": "stream",
     "text": [
      "<class 'pandas.core.frame.DataFrame'>\n",
      "RangeIndex: 2781 entries, 0 to 2780\n",
      "Data columns (total 56 columns):\n",
      " #   Column                                        Non-Null Count  Dtype  \n",
      "---  ------                                        --------------  -----  \n",
      " 0   id                                            2781 non-null   int64  \n",
      " 1   name                                          2781 non-null   object \n",
      " 2   description                                   2769 non-null   object \n",
      " 3   neighborhood_overview                         1803 non-null   object \n",
      " 4   host_id                                       2781 non-null   int64  \n",
      " 5   host_since                                    2781 non-null   float64\n",
      " 6   host_location                                 2152 non-null   object \n",
      " 7   host_about                                    1977 non-null   object \n",
      " 8   host_response_time                            2781 non-null   object \n",
      " 9   host_response_rate                            2781 non-null   float64\n",
      " 10  host_acceptance_rate                          2781 non-null   float64\n",
      " 11  host_is_superhost                             2781 non-null   object \n",
      " 12  host_neighbourhood                            2691 non-null   object \n",
      " 13  host_listings_count                           2781 non-null   int64  \n",
      " 14  host_total_listings_count                     2781 non-null   int64  \n",
      " 15  host_verifications                            2781 non-null   object \n",
      " 16  host_has_profile_pic                          2781 non-null   object \n",
      " 17  host_identity_verified                        2781 non-null   object \n",
      " 18  neighbourhood_cleansed                        2781 non-null   object \n",
      " 19  latitude                                      2781 non-null   float64\n",
      " 20  longitude                                     2781 non-null   float64\n",
      " 21  property_type                                 2781 non-null   object \n",
      " 22  room_type                                     2781 non-null   object \n",
      " 23  accommodates                                  2781 non-null   int64  \n",
      " 24  bathrooms_text                                2781 non-null   object \n",
      " 25  bedrooms                                      2781 non-null   float64\n",
      " 26  beds                                          2781 non-null   float64\n",
      " 27  amenities                                     2781 non-null   object \n",
      " 28  price                                         2781 non-null   float64\n",
      " 29  minimum_nights                                2781 non-null   int64  \n",
      " 30  maximum_nights                                2781 non-null   int64  \n",
      " 31  has_availability                              2781 non-null   object \n",
      " 32  availability_30                               2781 non-null   int64  \n",
      " 33  availability_60                               2781 non-null   int64  \n",
      " 34  availability_90                               2781 non-null   int64  \n",
      " 35  availability_365                              2781 non-null   int64  \n",
      " 36  number_of_reviews                             2781 non-null   int64  \n",
      " 37  number_of_reviews_ltm                         2781 non-null   int64  \n",
      " 38  number_of_reviews_l30d                        2781 non-null   int64  \n",
      " 39  review_scores_rating                          1972 non-null   float64\n",
      " 40  review_scores_accuracy                        1966 non-null   float64\n",
      " 41  review_scores_cleanliness                     1967 non-null   float64\n",
      " 42  review_scores_checkin                         1966 non-null   float64\n",
      " 43  review_scores_communication                   1967 non-null   float64\n",
      " 44  review_scores_location                        1966 non-null   float64\n",
      " 45  review_scores_value                           1966 non-null   float64\n",
      " 46  license                                       1645 non-null   object \n",
      " 47  instant_bookable                              2781 non-null   object \n",
      " 48  calculated_host_listings_count                2781 non-null   int64  \n",
      " 49  calculated_host_listings_count_entire_homes   2781 non-null   int64  \n",
      " 50  calculated_host_listings_count_private_rooms  2781 non-null   int64  \n",
      " 51  calculated_host_listings_count_shared_rooms   2781 non-null   int64  \n",
      " 52  reviews_per_month                             2781 non-null   float64\n",
      " 53  pcnt_ent_homes                                2781 non-null   float64\n",
      " 54  pcnt_private                                  2781 non-null   float64\n",
      " 55  pcnt_shared                                   2781 non-null   float64\n",
      "dtypes: float64(19), int64(18), object(19)\n",
      "memory usage: 1.2+ MB\n"
     ]
    }
   ],
   "source": [
    "lstn.info()"
   ]
  },
  {
   "cell_type": "markdown",
   "id": "8cc870bd-036d-42a8-9ee8-f637c9afe407",
   "metadata": {},
   "source": [
    "# 2 - Required Functions from Previous Notebook\n",
    "The functions below have been copied over from the previous notebook as they will be useful here.\n",
    "\n",
    "In a subsequent phase, these should be added to a .py file."
   ]
  },
  {
   "cell_type": "code",
   "execution_count": 4,
   "id": "22b40851-6c19-46f3-b452-3eee3d5dd8ce",
   "metadata": {},
   "outputs": [],
   "source": [
    "'''\n",
    "The col_logger function will need to be brough in from the other notebooks\n",
    "\n",
    "This has been modified to include a 0 imputation value n such that transforamtion\n",
    "occurs on log(n) and not log(0) which is undefined.\n",
    "'''\n",
    "\n",
    "def col_logger(data_column, zero_imp = 1):\n",
    "    # Since log(0) is undefined, 0's must be treated as log(1)\n",
    "    return data_column.apply(lambda x: np.log(zero_imp) if x==0 else np.log(x))"
   ]
  },
  {
   "cell_type": "code",
   "execution_count": 5,
   "id": "529cad82-76c6-4223-9a10-c6967621839e",
   "metadata": {},
   "outputs": [],
   "source": [
    "# Create a histogram plotting function:\n",
    "def hist_plotter(data, title = None, x_lbl = None, y_lbl = 'Count',  size = (6,4), bins = None, log = False):\n",
    "    plt.figure(figsize = size)\n",
    "    plt.hist(data, bins = bins, log = log)\n",
    "    if title == None:\n",
    "        plt.title(f'{data.name}')\n",
    "    else:\n",
    "        plt.title(title)\n",
    "    if x_lbl == None:\n",
    "        plt.xlabel(f'{data.name}')\n",
    "    else:\n",
    "        plt.xlabel(x_lbl) \n",
    "    plt.ylabel(y_lbl)"
   ]
  },
  {
   "cell_type": "code",
   "execution_count": 6,
   "id": "a2ba7731-c3cd-4dd6-adf1-c1fb735f1f38",
   "metadata": {},
   "outputs": [],
   "source": [
    "# Create a function to plot one numerical column versus another\n",
    "def plot_vs(data_x, data_y, title = None, x_lbl = None, y_lbl = None, size = (6,4), x_log = None, y_log = None):\n",
    "    plt.figure(figsize = size)\n",
    "    plt.scatter(data_x, data_y)\n",
    "    if title == None:\n",
    "        plt.title(f'{data_y.name} vs. {data_x.name}')\n",
    "    else:\n",
    "        plt.title(title)\n",
    "\n",
    "    if x_lbl == None:\n",
    "        plt.xlabel(f'{data_x.name}')\n",
    "    else:\n",
    "        plt.xlabel(x_lbl) \n",
    "\n",
    "    if y_lbl == None:\n",
    "        plt.ylabel(f'{data_y.name}')\n",
    "    else:\n",
    "        plt.ylabel(y_lbl)\n",
    "\n",
    "    if x_log != None:\n",
    "        plt.xscale(x_log)\n",
    "        \n",
    "    if y_log != None:\n",
    "        plt.yscale(y_log)"
   ]
  },
  {
   "cell_type": "code",
   "execution_count": 7,
   "id": "d327fd1e-8249-4b8b-8bfe-0ec1bdb0169a",
   "metadata": {},
   "outputs": [],
   "source": [
    "# Create a more advanced 'plot vs' function which examines logs too\n",
    "\n",
    "def plot_vs_log(data_x, data_y, title = None, x_lbl = None, y_lbl = None, size = (15,4), x_log = None, y_log = None):\n",
    "    \n",
    "    # calculate the correlations\n",
    "    #  Source for correlation:  https://www.educative.io/answers/what-is-the-statistics-correlation-method-in-python\n",
    "    \n",
    "    # NaNs need to be dropped, in doing that, the array dimensions must match\n",
    "    #  To do that, indices will be compared to get the intersection of index values\n",
    "    #  Help with this from:  https://realpython.com/numpy-scipy-pandas-correlation-python/#pearson-correlation-coefficient\n",
    "    base_corr = round(pd.DataFrame([data_x, data_y]).T.corr().iloc[0][1], 3)\n",
    "    y_log_corr = round(pd.DataFrame([data_x, col_logger(data_y)]).T.corr().iloc[0][1], 3)\n",
    "    x_y_log_corr = round(pd.DataFrame([col_logger(data_x), col_logger(data_y)]).T.corr().iloc[0][1], 3)\n",
    "    \n",
    "    plt.figure(figsize = size)\n",
    "    \n",
    "    # Untransformed variables\n",
    "    plt.subplot(1, 3, 1)\n",
    "    plt.scatter(data_x, data_y)\n",
    "    if title == None:\n",
    "        plt.title(f'{data_y.name} \\nvs. {data_x.name} \\ncorr: {base_corr}')\n",
    "    else:\n",
    "        plt.title(title)\n",
    "\n",
    "    if x_lbl == None:\n",
    "        plt.xlabel(f'{data_x.name}')\n",
    "    else:\n",
    "        plt.xlabel(x_lbl) \n",
    "\n",
    "    if y_lbl == None:\n",
    "        plt.ylabel(f'{data_y.name}')\n",
    "    else:\n",
    "        plt.ylabel(y_lbl)\n",
    "\n",
    "    # For log scaale, source for help:  https://www.geeksforgeeks.org/how-to-plot-logarithmic-axes-in-matplotlib/\n",
    "    if x_log != None:\n",
    "        plt.xscale(x_log)\n",
    "        \n",
    "    if y_log != None:\n",
    "        plt.yscale(y_log)\n",
    "    \n",
    "    \n",
    "    # Log transform y (adjust the axis scale)\n",
    "    plt.subplot(1, 3, 2)\n",
    "    plt.scatter(data_x, data_y)\n",
    "    if title == None:\n",
    "        plt.title(f'Log {data_y.name} \\nvs. {data_x.name}\\ncorr: {y_log_corr}')\n",
    "    else:\n",
    "        plt.title(title)\n",
    "\n",
    "    if x_lbl == None:\n",
    "        plt.xlabel(f'{data_x.name}')\n",
    "    else:\n",
    "        plt.xlabel(x_lbl) \n",
    "\n",
    "    if y_lbl == None:\n",
    "        plt.ylabel(f'log {data_y.name}')\n",
    "    else:\n",
    "        plt.ylabel(y_lbl)\n",
    "\n",
    "    if x_log != None:\n",
    "        plt.xscale(x_log)\n",
    "        \n",
    "    plt.yscale('log')\n",
    "\n",
    "    # Log transform BOTH x and y (adjust the axis scales)\n",
    "    plt.subplot(1, 3, 3)\n",
    "    plt.scatter(data_x, data_y)\n",
    "    if title == None:\n",
    "        plt.title(f'Log {data_y.name} \\nvs. Log {data_x.name}\\ncorr: {x_y_log_corr}')\n",
    "    else:\n",
    "        plt.title(title)\n",
    "\n",
    "    if x_lbl == None:\n",
    "        plt.xlabel(f'log {data_x.name}')\n",
    "    else:\n",
    "        plt.xlabel(x_lbl) \n",
    "\n",
    "    if y_lbl == None:\n",
    "        plt.ylabel(f'log {data_y.name}')\n",
    "    else:\n",
    "        plt.ylabel(y_lbl)\n",
    "\n",
    "    plt.xscale('log')\n",
    "    plt.yscale('log')"
   ]
  },
  {
   "cell_type": "markdown",
   "id": "bd9a0d76-fe2c-4926-9b42-74bfac5387c1",
   "metadata": {},
   "source": [
    "# 3 - Explore and Extract 'amenities'\n",
    "Amenities are extra items or physical listing features which may entice potential guests.  It's possible that there may be some high-valued amenities (for instance a pool) that would cause a host to charge a higher or lower price."
   ]
  },
  {
   "cell_type": "markdown",
   "id": "baa96cad-bf4e-4aa9-83d2-ef019c5dc342",
   "metadata": {},
   "source": [
    "## 3.1 - Examine the Values"
   ]
  },
  {
   "cell_type": "code",
   "execution_count": 8,
   "id": "c948200f-34da-4a5e-a779-59cf894c2480",
   "metadata": {},
   "outputs": [
    {
     "data": {
      "text/plain": [
       "0       [\"Wifi\", \"Stove\", \"Kitchen\", \"Dishwasher\", \"Fr...\n",
       "1       [\"Wifi\", \"Carbon monoxide alarm\", \"Hair dryer\"...\n",
       "2       [\"Wifi\", \"Carbon monoxide alarm\", \"Hot water\",...\n",
       "3       [\"Wifi\", \"Oven\", \"Dishwasher\", \"TV\", \"Portable...\n",
       "4       [\"Wifi\", \"Stove\", \"Window guards\", \"City skyli...\n",
       "                              ...                        \n",
       "2776    [\"Wifi\", \"Stove\", \"Public or shared beach acce...\n",
       "2777    [\"Wifi\", \"Stove\", \"HDTV with Chromecast\", \"Key...\n",
       "2778    [\"Wifi\", \"Kitchen\", \"Iron\", \"Washer\", \"Hair dr...\n",
       "2779    [\"Wifi\", \"AC - split type ductless system\", \"K...\n",
       "2780    [\"Wifi\", \"Stove\", \"Kitchen\", \"Dishwasher\", \"Fi...\n",
       "Name: amenities, Length: 2781, dtype: object"
      ]
     },
     "execution_count": 8,
     "metadata": {},
     "output_type": "execute_result"
    }
   ],
   "source": [
    "# View the data\n",
    "lstn.amenities"
   ]
  },
  {
   "cell_type": "code",
   "execution_count": 9,
   "id": "e14a41b7-6f89-4f75-814e-05eb4fb85c58",
   "metadata": {},
   "outputs": [
    {
     "data": {
      "text/plain": [
       "'[\"Wifi\", \"Stove\", \"Kitchen\", \"Dishwasher\", \"Free street parking\", \"First aid kit\", \"Pets allowed\", \"Toaster\", \"Coffee maker\", \"Washer\", \"Hair dryer\", \"Central heating\", \"Blender\", \"Elevator\", \"Freezer\", \"TV\", \"Bathtub\", \"Air conditioning\", \"Bed linens\", \"Carbon monoxide alarm\", \"Oven\", \"Security cameras on property\", \"Smoke alarm\", \"Cooking basics\", \"Dining table\", \"Free parking on premises\", \"Baking sheet\", \"Essentials\", \"Hot water\", \"Dishes and silverware\", \"Clothing storage: walk-in closet and closet\", \"Fire extinguisher\", \"Hangers\", \"Dryer\", \"Long term stays allowed\", \"Microwave\"]'"
      ]
     },
     "execution_count": 9,
     "metadata": {},
     "output_type": "execute_result"
    }
   ],
   "source": [
    "# View the first on in detail\n",
    "lstn.amenities[0]"
   ]
  },
  {
   "cell_type": "code",
   "execution_count": 10,
   "id": "ae6906f5-1af4-487d-9e53-61017f9f7d7c",
   "metadata": {},
   "outputs": [
    {
     "data": {
      "text/plain": [
       "'[\"Wifi\", \"Oven\", \"Dishwasher\", \"TV\", \"Heating\", \"Air conditioning\", \"Microwave\"]'"
      ]
     },
     "execution_count": 10,
     "metadata": {},
     "output_type": "execute_result"
    }
   ],
   "source": [
    "# View another\n",
    "lstn.amenities[100]"
   ]
  },
  {
   "cell_type": "code",
   "execution_count": 11,
   "id": "5ba82168-12c0-4a34-92ac-4d0f5bf5b003",
   "metadata": {
    "tags": []
   },
   "outputs": [
    {
     "data": {
      "text/plain": [
       "str"
      ]
     },
     "execution_count": 11,
     "metadata": {},
     "output_type": "execute_result"
    }
   ],
   "source": [
    "# Check the type\n",
    "type(lstn.amenities[0])"
   ]
  },
  {
   "cell_type": "code",
   "execution_count": 12,
   "id": "2fd8a71a-8a8f-4129-a0c5-d208a30cb104",
   "metadata": {},
   "outputs": [
    {
     "data": {
      "text/plain": [
       "2212"
      ]
     },
     "execution_count": 12,
     "metadata": {},
     "output_type": "execute_result"
    }
   ],
   "source": [
    "# Find the number of unique amenities\n",
    "lstn.amenities.nunique()"
   ]
  },
  {
   "cell_type": "markdown",
   "id": "ab831ad2-99f7-4f94-88d0-d365bfc8b064",
   "metadata": {},
   "source": [
    "#### OBSERVATIONS:\n",
    "* There are many different combinations of amenities\n",
    "* Individual amenities appear to be part of a smaller list of identical terms\n",
    "* Each element in this column is actually list stored as a string\n",
    "\n",
    "These individual terms will need to be extracted and eventually one hot encoded."
   ]
  },
  {
   "cell_type": "markdown",
   "id": "3917ca86-98d4-43c1-bd02-77fdc2154a5c",
   "metadata": {},
   "source": [
    "## 3.2 - Extract and Encode the Individual Amenities"
   ]
  },
  {
   "cell_type": "code",
   "execution_count": 13,
   "id": "f4ebef1b-ea3d-46bf-a6d0-935af988547f",
   "metadata": {},
   "outputs": [
    {
     "data": {
      "text/plain": [
       "974"
      ]
     },
     "execution_count": 13,
     "metadata": {},
     "output_type": "execute_result"
    }
   ],
   "source": [
    "# Use a regular expression to extract the amenities which are between quotes.\n",
    "#  Code adapted from this source: https://stackoverflow.com/questions/1454913/regular-expression-to-find-a-string-included-between-two-characters-while-exclud\n",
    "# Also helpful:  https://regex101.com/\n",
    "regex_string = '(?<=\")[^\"]+(?=\"[,\\]])'\n",
    "\n",
    "amn_lst = []\n",
    "\n",
    "for string_lists in lstn.amenities:\n",
    "    \n",
    "    # Find all amenities for a listing\n",
    "    a_list = re.findall(regex_string, string_lists)\n",
    "    \n",
    "    # Add each amentity into another list\n",
    "    for amenity in a_list:\n",
    "        amn_lst.append(amenity)\n",
    "\n",
    "# Find the total number of unique amenities in the list by reducing to a set\n",
    "len(set(amn_lst))       "
   ]
  },
  {
   "cell_type": "code",
   "execution_count": 14,
   "id": "cd5345a5-d653-4d7d-9d1b-8fac2d3acb82",
   "metadata": {},
   "outputs": [
    {
     "name": "stdout",
     "output_type": "stream",
     "text": [
      "Wifi                                        2609\n",
      "Smoke alarm                                 2563\n",
      "Carbon monoxide alarm                       2433\n",
      "Kitchen                                     2388\n",
      "Essentials                                  2326\n",
      "                                            ... \n",
      "Waterfront                                    40\n",
      "Private backyard \\u2013 Not fully fenced      39\n",
      " HDTV with Roku                               37\n",
      "Beach essentials                              36\n",
      "Park view                                     36\n",
      "Length: 143, dtype: int64\n"
     ]
    }
   ],
   "source": [
    "# Create a pandas series of all amenities and their number of occurences\n",
    "amn_counts = pd.Series(amn_lst).value_counts(ascending=False)\n",
    "\n",
    "# Filter the datafarme to use only words that appear in 99% of posts\n",
    "#  THIS IS REQUIRED GIVEN THAT min_df IS IGNORED BY COUNT VECTORISZER WITH CUSTOM DICTIONARIES\n",
    "print(amn_counts[amn_counts >= 35])\n",
    "\n",
    "#  Create a vocab variable by using the index attribute to get the list of amenities\n",
    "amn_vocab = amn_counts[amn_counts >= 35].index"
   ]
  },
  {
   "cell_type": "code",
   "execution_count": 15,
   "id": "0949a4ef-f050-4c89-b03a-e5a5d24e1dfc",
   "metadata": {},
   "outputs": [
    {
     "data": {
      "text/html": [
       "<div>\n",
       "<style scoped>\n",
       "    .dataframe tbody tr th:only-of-type {\n",
       "        vertical-align: middle;\n",
       "    }\n",
       "\n",
       "    .dataframe tbody tr th {\n",
       "        vertical-align: top;\n",
       "    }\n",
       "\n",
       "    .dataframe thead th {\n",
       "        text-align: right;\n",
       "    }\n",
       "</style>\n",
       "<table border=\"1\" class=\"dataframe\">\n",
       "  <thead>\n",
       "    <tr style=\"text-align: right;\">\n",
       "      <th></th>\n",
       "      <th>Wifi</th>\n",
       "      <th>Smoke alarm</th>\n",
       "      <th>Carbon monoxide alarm</th>\n",
       "      <th>Kitchen</th>\n",
       "      <th>Essentials</th>\n",
       "      <th>Hangers</th>\n",
       "      <th>Iron</th>\n",
       "      <th>Hair dryer</th>\n",
       "      <th>Heating</th>\n",
       "      <th>Microwave</th>\n",
       "      <th>...</th>\n",
       "      <th>Portable air conditioning</th>\n",
       "      <th>Fireplace guards</th>\n",
       "      <th>Baby bath</th>\n",
       "      <th>Courtyard view</th>\n",
       "      <th>Shared backyard \\u2013 Not fully fenced</th>\n",
       "      <th>Waterfront</th>\n",
       "      <th>Private backyard \\u2013 Not fully fenced</th>\n",
       "      <th>HDTV with Roku</th>\n",
       "      <th>Beach essentials</th>\n",
       "      <th>Park view</th>\n",
       "    </tr>\n",
       "  </thead>\n",
       "  <tbody>\n",
       "    <tr>\n",
       "      <th>0</th>\n",
       "      <td>1</td>\n",
       "      <td>1</td>\n",
       "      <td>1</td>\n",
       "      <td>1</td>\n",
       "      <td>1</td>\n",
       "      <td>1</td>\n",
       "      <td>0</td>\n",
       "      <td>1</td>\n",
       "      <td>0</td>\n",
       "      <td>1</td>\n",
       "      <td>...</td>\n",
       "      <td>0</td>\n",
       "      <td>0</td>\n",
       "      <td>0</td>\n",
       "      <td>0</td>\n",
       "      <td>0</td>\n",
       "      <td>0</td>\n",
       "      <td>0</td>\n",
       "      <td>0</td>\n",
       "      <td>0</td>\n",
       "      <td>0</td>\n",
       "    </tr>\n",
       "    <tr>\n",
       "      <th>1</th>\n",
       "      <td>1</td>\n",
       "      <td>1</td>\n",
       "      <td>1</td>\n",
       "      <td>0</td>\n",
       "      <td>0</td>\n",
       "      <td>0</td>\n",
       "      <td>0</td>\n",
       "      <td>1</td>\n",
       "      <td>1</td>\n",
       "      <td>0</td>\n",
       "      <td>...</td>\n",
       "      <td>0</td>\n",
       "      <td>0</td>\n",
       "      <td>0</td>\n",
       "      <td>0</td>\n",
       "      <td>0</td>\n",
       "      <td>0</td>\n",
       "      <td>0</td>\n",
       "      <td>1</td>\n",
       "      <td>0</td>\n",
       "      <td>0</td>\n",
       "    </tr>\n",
       "    <tr>\n",
       "      <th>2</th>\n",
       "      <td>1</td>\n",
       "      <td>1</td>\n",
       "      <td>1</td>\n",
       "      <td>1</td>\n",
       "      <td>0</td>\n",
       "      <td>1</td>\n",
       "      <td>0</td>\n",
       "      <td>0</td>\n",
       "      <td>1</td>\n",
       "      <td>1</td>\n",
       "      <td>...</td>\n",
       "      <td>0</td>\n",
       "      <td>0</td>\n",
       "      <td>0</td>\n",
       "      <td>0</td>\n",
       "      <td>0</td>\n",
       "      <td>0</td>\n",
       "      <td>0</td>\n",
       "      <td>0</td>\n",
       "      <td>0</td>\n",
       "      <td>0</td>\n",
       "    </tr>\n",
       "    <tr>\n",
       "      <th>3</th>\n",
       "      <td>1</td>\n",
       "      <td>0</td>\n",
       "      <td>0</td>\n",
       "      <td>0</td>\n",
       "      <td>0</td>\n",
       "      <td>0</td>\n",
       "      <td>0</td>\n",
       "      <td>0</td>\n",
       "      <td>0</td>\n",
       "      <td>0</td>\n",
       "      <td>...</td>\n",
       "      <td>1</td>\n",
       "      <td>0</td>\n",
       "      <td>0</td>\n",
       "      <td>0</td>\n",
       "      <td>0</td>\n",
       "      <td>0</td>\n",
       "      <td>0</td>\n",
       "      <td>0</td>\n",
       "      <td>0</td>\n",
       "      <td>0</td>\n",
       "    </tr>\n",
       "    <tr>\n",
       "      <th>4</th>\n",
       "      <td>1</td>\n",
       "      <td>1</td>\n",
       "      <td>1</td>\n",
       "      <td>1</td>\n",
       "      <td>1</td>\n",
       "      <td>1</td>\n",
       "      <td>1</td>\n",
       "      <td>1</td>\n",
       "      <td>1</td>\n",
       "      <td>1</td>\n",
       "      <td>...</td>\n",
       "      <td>0</td>\n",
       "      <td>1</td>\n",
       "      <td>0</td>\n",
       "      <td>0</td>\n",
       "      <td>1</td>\n",
       "      <td>0</td>\n",
       "      <td>0</td>\n",
       "      <td>0</td>\n",
       "      <td>1</td>\n",
       "      <td>0</td>\n",
       "    </tr>\n",
       "    <tr>\n",
       "      <th>...</th>\n",
       "      <td>...</td>\n",
       "      <td>...</td>\n",
       "      <td>...</td>\n",
       "      <td>...</td>\n",
       "      <td>...</td>\n",
       "      <td>...</td>\n",
       "      <td>...</td>\n",
       "      <td>...</td>\n",
       "      <td>...</td>\n",
       "      <td>...</td>\n",
       "      <td>...</td>\n",
       "      <td>...</td>\n",
       "      <td>...</td>\n",
       "      <td>...</td>\n",
       "      <td>...</td>\n",
       "      <td>...</td>\n",
       "      <td>...</td>\n",
       "      <td>...</td>\n",
       "      <td>...</td>\n",
       "      <td>...</td>\n",
       "      <td>...</td>\n",
       "    </tr>\n",
       "    <tr>\n",
       "      <th>2776</th>\n",
       "      <td>1</td>\n",
       "      <td>1</td>\n",
       "      <td>1</td>\n",
       "      <td>1</td>\n",
       "      <td>1</td>\n",
       "      <td>1</td>\n",
       "      <td>0</td>\n",
       "      <td>0</td>\n",
       "      <td>1</td>\n",
       "      <td>1</td>\n",
       "      <td>...</td>\n",
       "      <td>0</td>\n",
       "      <td>1</td>\n",
       "      <td>1</td>\n",
       "      <td>0</td>\n",
       "      <td>0</td>\n",
       "      <td>0</td>\n",
       "      <td>0</td>\n",
       "      <td>0</td>\n",
       "      <td>0</td>\n",
       "      <td>0</td>\n",
       "    </tr>\n",
       "    <tr>\n",
       "      <th>2777</th>\n",
       "      <td>1</td>\n",
       "      <td>1</td>\n",
       "      <td>1</td>\n",
       "      <td>1</td>\n",
       "      <td>1</td>\n",
       "      <td>1</td>\n",
       "      <td>1</td>\n",
       "      <td>1</td>\n",
       "      <td>1</td>\n",
       "      <td>1</td>\n",
       "      <td>...</td>\n",
       "      <td>0</td>\n",
       "      <td>0</td>\n",
       "      <td>0</td>\n",
       "      <td>0</td>\n",
       "      <td>0</td>\n",
       "      <td>0</td>\n",
       "      <td>0</td>\n",
       "      <td>0</td>\n",
       "      <td>0</td>\n",
       "      <td>0</td>\n",
       "    </tr>\n",
       "    <tr>\n",
       "      <th>2778</th>\n",
       "      <td>1</td>\n",
       "      <td>1</td>\n",
       "      <td>1</td>\n",
       "      <td>1</td>\n",
       "      <td>1</td>\n",
       "      <td>1</td>\n",
       "      <td>1</td>\n",
       "      <td>1</td>\n",
       "      <td>1</td>\n",
       "      <td>0</td>\n",
       "      <td>...</td>\n",
       "      <td>0</td>\n",
       "      <td>0</td>\n",
       "      <td>0</td>\n",
       "      <td>0</td>\n",
       "      <td>0</td>\n",
       "      <td>0</td>\n",
       "      <td>0</td>\n",
       "      <td>0</td>\n",
       "      <td>0</td>\n",
       "      <td>0</td>\n",
       "    </tr>\n",
       "    <tr>\n",
       "      <th>2779</th>\n",
       "      <td>1</td>\n",
       "      <td>1</td>\n",
       "      <td>1</td>\n",
       "      <td>1</td>\n",
       "      <td>1</td>\n",
       "      <td>1</td>\n",
       "      <td>1</td>\n",
       "      <td>0</td>\n",
       "      <td>1</td>\n",
       "      <td>1</td>\n",
       "      <td>...</td>\n",
       "      <td>0</td>\n",
       "      <td>0</td>\n",
       "      <td>0</td>\n",
       "      <td>0</td>\n",
       "      <td>0</td>\n",
       "      <td>0</td>\n",
       "      <td>0</td>\n",
       "      <td>0</td>\n",
       "      <td>0</td>\n",
       "      <td>0</td>\n",
       "    </tr>\n",
       "    <tr>\n",
       "      <th>2780</th>\n",
       "      <td>1</td>\n",
       "      <td>1</td>\n",
       "      <td>1</td>\n",
       "      <td>1</td>\n",
       "      <td>1</td>\n",
       "      <td>1</td>\n",
       "      <td>1</td>\n",
       "      <td>1</td>\n",
       "      <td>1</td>\n",
       "      <td>1</td>\n",
       "      <td>...</td>\n",
       "      <td>0</td>\n",
       "      <td>0</td>\n",
       "      <td>0</td>\n",
       "      <td>0</td>\n",
       "      <td>0</td>\n",
       "      <td>0</td>\n",
       "      <td>0</td>\n",
       "      <td>0</td>\n",
       "      <td>0</td>\n",
       "      <td>0</td>\n",
       "    </tr>\n",
       "  </tbody>\n",
       "</table>\n",
       "<p>2781 rows × 143 columns</p>\n",
       "</div>"
      ],
      "text/plain": [
       "      Wifi  Smoke alarm  Carbon monoxide alarm  Kitchen  Essentials  Hangers  \\\n",
       "0        1            1                      1        1           1        1   \n",
       "1        1            1                      1        0           0        0   \n",
       "2        1            1                      1        1           0        1   \n",
       "3        1            0                      0        0           0        0   \n",
       "4        1            1                      1        1           1        1   \n",
       "...    ...          ...                    ...      ...         ...      ...   \n",
       "2776     1            1                      1        1           1        1   \n",
       "2777     1            1                      1        1           1        1   \n",
       "2778     1            1                      1        1           1        1   \n",
       "2779     1            1                      1        1           1        1   \n",
       "2780     1            1                      1        1           1        1   \n",
       "\n",
       "      Iron  Hair dryer  Heating  Microwave  ...  Portable air conditioning  \\\n",
       "0        0           1        0          1  ...                          0   \n",
       "1        0           1        1          0  ...                          0   \n",
       "2        0           0        1          1  ...                          0   \n",
       "3        0           0        0          0  ...                          1   \n",
       "4        1           1        1          1  ...                          0   \n",
       "...    ...         ...      ...        ...  ...                        ...   \n",
       "2776     0           0        1          1  ...                          0   \n",
       "2777     1           1        1          1  ...                          0   \n",
       "2778     1           1        1          0  ...                          0   \n",
       "2779     1           0        1          1  ...                          0   \n",
       "2780     1           1        1          1  ...                          0   \n",
       "\n",
       "      Fireplace guards  Baby bath  Courtyard view  \\\n",
       "0                    0          0               0   \n",
       "1                    0          0               0   \n",
       "2                    0          0               0   \n",
       "3                    0          0               0   \n",
       "4                    1          0               0   \n",
       "...                ...        ...             ...   \n",
       "2776                 1          1               0   \n",
       "2777                 0          0               0   \n",
       "2778                 0          0               0   \n",
       "2779                 0          0               0   \n",
       "2780                 0          0               0   \n",
       "\n",
       "      Shared backyard \\u2013 Not fully fenced  Waterfront  \\\n",
       "0                                           0           0   \n",
       "1                                           0           0   \n",
       "2                                           0           0   \n",
       "3                                           0           0   \n",
       "4                                           1           0   \n",
       "...                                       ...         ...   \n",
       "2776                                        0           0   \n",
       "2777                                        0           0   \n",
       "2778                                        0           0   \n",
       "2779                                        0           0   \n",
       "2780                                        0           0   \n",
       "\n",
       "      Private backyard \\u2013 Not fully fenced   HDTV with Roku  \\\n",
       "0                                            0                0   \n",
       "1                                            0                1   \n",
       "2                                            0                0   \n",
       "3                                            0                0   \n",
       "4                                            0                0   \n",
       "...                                        ...              ...   \n",
       "2776                                         0                0   \n",
       "2777                                         0                0   \n",
       "2778                                         0                0   \n",
       "2779                                         0                0   \n",
       "2780                                         0                0   \n",
       "\n",
       "      Beach essentials  Park view  \n",
       "0                    0          0  \n",
       "1                    0          0  \n",
       "2                    0          0  \n",
       "3                    0          0  \n",
       "4                    1          0  \n",
       "...                ...        ...  \n",
       "2776                 0          0  \n",
       "2777                 0          0  \n",
       "2778                 0          0  \n",
       "2779                 0          0  \n",
       "2780                 0          0  \n",
       "\n",
       "[2781 rows x 143 columns]"
      ]
     },
     "execution_count": 15,
     "metadata": {},
     "output_type": "execute_result"
    }
   ],
   "source": [
    "# Use countevectorizer to one hot encode all the amenities\n",
    "#  Use the vocab to get only the amenities encoded\n",
    "#  NOTE:  Set the 'token_pattern' to the regex string so it finds the exact same tokens as were found previously\n",
    "cvec = CountVectorizer(lowercase=False,\n",
    "                       vocabulary=amn_vocab,\n",
    "                       ngram_range=(1, 1),\n",
    "                       token_pattern=regex_string\n",
    "                      )\n",
    "\n",
    "# Create a new dataframe with the count vectorized data from the amenities column\n",
    "amen_df = pd.DataFrame(cvec.fit_transform(lstn.amenities).todense(), \n",
    "             columns = cvec.get_feature_names_out())\n",
    "\n",
    "amen_df"
   ]
  },
  {
   "cell_type": "markdown",
   "id": "823cf97c-7daa-4798-84bc-823921d71849",
   "metadata": {},
   "source": [
    "## 3.3 - Find Ammenity Correlations to Price"
   ]
  },
  {
   "cell_type": "code",
   "execution_count": 16,
   "id": "efc3e613-37a4-4e08-b4a6-52f43e6024d8",
   "metadata": {},
   "outputs": [
    {
     "data": {
      "text/plain": [
       "(2781, 145)"
      ]
     },
     "execution_count": 16,
     "metadata": {},
     "output_type": "execute_result"
    }
   ],
   "source": [
    "# Add the price and log price columns to the new dataframe\n",
    "amen_df['price__'] = lstn.price\n",
    "amen_df['log_price__'] = col_logger(lstn.price)\n",
    "amen_df.shape"
   ]
  },
  {
   "cell_type": "code",
   "execution_count": 17,
   "id": "f3697c56-a437-41eb-bce8-8a68bc9f4b42",
   "metadata": {},
   "outputs": [
    {
     "name": "stdout",
     "output_type": "stream",
     "text": [
      "Number of NaN values: 0\n",
      "\n",
      "price__                          1.000000\n",
      "log_price__                      0.760202\n",
      "Pack \\u2019n play/Travel crib    0.184917\n",
      "Elevator                         0.166448\n",
      "Pets allowed                     0.162390\n",
      "                                   ...   \n",
      "Paid dryer \\u2013 In building   -0.049974\n",
      "Shared patio or balcony         -0.058238\n",
      "Private living room             -0.071618\n",
      "Free street parking             -0.081348\n",
      "Lock on bedroom door            -0.208319\n",
      "Name: price__, Length: 145, dtype: float64\n",
      "==================================================\n",
      "\n",
      "log_price__                1.000000\n",
      "price__                    0.760202\n",
      "Hair dryer                 0.335156\n",
      "Pets allowed               0.310873\n",
      "Elevator                   0.291888\n",
      "                             ...   \n",
      "Host greets you           -0.077604\n",
      "Shared patio or balcony   -0.081407\n",
      "Private living room       -0.124294\n",
      "Free street parking       -0.175082\n",
      "Lock on bedroom door      -0.381361\n",
      "Name: log_price__, Length: 145, dtype: float64\n"
     ]
    }
   ],
   "source": [
    "# Create correaltion matrix between all words and filter for correlations to price\n",
    "\n",
    "# First ensure there are no NaN values\n",
    "print(f\"Number of NaN values: {amen_df.corr()['price__'].isnull().sum()}\")\n",
    "\n",
    "# Find the correlation corefficients for each of the amenities to the price:\n",
    "price_amen_corr = amen_df.corr()['price__']\n",
    "log_price_amen_corr = amen_df.corr()['log_price__']\n",
    "print(f'\\n{price_amen_corr.sort_values(ascending=False)}')\n",
    "print('='*50)\n",
    "print(f'\\n{log_price_amen_corr.sort_values(ascending=False)}')"
   ]
  },
  {
   "cell_type": "code",
   "execution_count": 18,
   "id": "ab2b1b3e-5f7a-49d1-ba8c-0b9b8f4996d5",
   "metadata": {},
   "outputs": [
    {
     "data": {
      "image/png": "[encoded data removed]",
      "text/plain": [
       "<Figure size 600x400 with 1 Axes>"
      ]
     },
     "metadata": {},
     "output_type": "display_data"
    }
   ],
   "source": [
    "# Check to see if any correlation values are drastically different against price versus log price\n",
    "plot_vs(price_amen_corr, log_price_amen_corr, \n",
    "        title = 'Amenity Correlations to Price vs.\\nAmenity Correlations to Log Price',\n",
    "       x_lbl='Price Correlations', y_lbl='Log Price Correlations')"
   ]
  },
  {
   "cell_type": "code",
   "execution_count": 19,
   "id": "ee928eaf-4ee8-483d-8e76-c1aaff4e3807",
   "metadata": {},
   "outputs": [
    {
     "data": {
      "image/png": "[encoded data removed]",
      "text/plain": [
       "<Figure size 600x400 with 1 Axes>"
      ]
     },
     "metadata": {},
     "output_type": "display_data"
    }
   ],
   "source": [
    "# View the distribution of the correlations (filter out price and log correlations)\n",
    "hist_plotter(price_amen_corr[price_amen_corr < 0.6], bins = 30)"
   ]
  },
  {
   "cell_type": "markdown",
   "id": "7c273730-30fe-4bb5-a930-1d97a5b5223e",
   "metadata": {},
   "source": [
    "## 3.4 - Create a Column that Provides the Number of Amenities Provided in Each Listing\n",
    "Practically speaking, its possible that more amenities means more up-keep for the host and a higher price"
   ]
  },
  {
   "cell_type": "code",
   "execution_count": 20,
   "id": "b4cecbfd-90cf-493b-b100-36202ad741ac",
   "metadata": {},
   "outputs": [
    {
     "data": {
      "text/plain": [
       "0       36\n",
       "1       17\n",
       "2       17\n",
       "3        5\n",
       "4       68\n",
       "        ..\n",
       "2776    44\n",
       "2777    39\n",
       "2778    21\n",
       "2779    30\n",
       "2780    34\n",
       "Name: amen_cnt, Length: 2781, dtype: int64"
      ]
     },
     "execution_count": 20,
     "metadata": {},
     "output_type": "execute_result"
    }
   ],
   "source": [
    "# Using regex as before, find the number of amenities for every listing and store to a new column\n",
    "lstn['amen_cnt'] = lstn.amenities.apply(lambda x: len(re.findall(regex_string, x)))\n",
    "lstn.amen_cnt"
   ]
  },
  {
   "cell_type": "code",
   "execution_count": 21,
   "id": "c1aeb573-cb91-4366-90ed-75d1d9833198",
   "metadata": {},
   "outputs": [
    {
     "data": {
      "image/png": "[encoded data removed]",
      "text/plain": [
       "<Figure size 1500x400 with 3 Axes>"
      ]
     },
     "metadata": {},
     "output_type": "display_data"
    }
   ],
   "source": [
    "# Plot the price versus amenity count\n",
    "plot_vs_log(lstn.amen_cnt, lstn.price)"
   ]
  },
  {
   "cell_type": "markdown",
   "id": "6abd9d20-cbd7-46bc-b019-3891324e2651",
   "metadata": {},
   "source": [
    "## 3.5 - Amenities Conclusions\n",
    "* No correlations between any amenity and price or log price exceeds a magnitude of about 0.38 (lock on bedroom door, -0.381)\n",
    "* Some amenities correlate higher with price and log than others\n",
    "    * Items like hairdryers and pets being allowed correlate positively with price/log_price\n",
    "    * Having a 'lock on bedroom door' seems to correlate with a cheaper Airbnb\n",
    "* The amenity counts do not correlate much higher than even the most highly correlated amenities\n",
    "* Correlations to the log transformed price are much stronger than those to price, but still relatively weak"
   ]
  },
  {
   "cell_type": "markdown",
   "id": "9e0aed39-d115-4902-96d5-1a621d3f862b",
   "metadata": {},
   "source": [
    "# 4 - Descriptive Columns\n",
    "Name, Description, Neighborhood Overview, and Host About will all now be engineered using NLP tokenization techniques.  This will very efficiently one hot encode the presence of the words used in each of these features."
   ]
  },
  {
   "cell_type": "code",
   "execution_count": 22,
   "id": "74bd2245-f8ce-4a9e-985a-edf5427041eb",
   "metadata": {},
   "outputs": [
    {
     "name": "stdout",
     "output_type": "stream",
     "text": [
      "name type: <class 'str'>\n",
      "name sample value: 101 Spacious 2bed 2bath wit 1parking\n",
      " ==================================================\n",
      "description type: <class 'str'>\n",
      "description sample value: Your family will be close to everything when you stay at this centrally-located place. Brand new building, spacious apt with 1 king and 1 queen bed 2 full bath and garage space for 1 car.<br /><br /><b>License number</b><br />STR-521858\n",
      " ==================================================\n",
      "host_about type: <class 'str'>\n",
      "host_about sample value: Enjoy your stay. Im here to help. Diogo DeAraujo\n",
      " ==================================================\n",
      "neighborhood_overview type: <class 'float'>\n",
      "neighborhood_overview sample value: nan\n",
      " ==================================================\n"
     ]
    }
   ],
   "source": [
    "# Check the data type and first value of each of the columns\n",
    "for col in ['name', 'description', 'host_about', 'neighborhood_overview']:\n",
    "    print(f'{col} type: {type(lstn[col][0])}\\n{col} sample value: {lstn[col][0]}\\n {\"=\"*50}')"
   ]
  },
  {
   "cell_type": "code",
   "execution_count": 23,
   "id": "54c4e530-7206-4b87-b6fd-55f0f8feb689",
   "metadata": {},
   "outputs": [
    {
     "name": "stdout",
     "output_type": "stream",
     "text": [
      "name type: <class 'str'>\n",
      "name sample value: Open Back Bay 1BR w/ Gym, nr the Common\n",
      " ==================================================\n",
      "description type: <class 'str'>\n",
      "description sample value: Show up and start living from day one in Boston with this spacious one-bedroom Blueground apartment. You’ll love coming home to this thoughtfully furnished, beautifully designed, and fully-equipped Back Bay home with stunning high floor views over the city. (ID #BOS2)<br /><br /><b>The space</b><br />As with any Blueground apartment, you’ll find a thoughtfully designed space complete with beautiful furniture and a fully-equipped kitchen in this one-bedroom property. And, thanks to our superior quality mattresses, luxury linens, and towels, you can relax knowing you’ll always feel comfortably at home. When you’re ready for some fun, you can take in the Boston vibes or bring the entertainment to you with the premium wireless speaker or smart TV.  This apartment also offers in-apartment laundry.<br /><br />Amenities<br /><br />Building amenities unique to this one-bedroom include an on-site:<br /><br />  - Basketball Court<br />  - Doorman<br />  - Dryer<br />  - Elevator<br />  - Game ro\n",
      " ==================================================\n",
      "host_about type: <class 'str'>\n",
      "host_about sample value: We’re Blueground, a global proptech company with several thousand move-in-ready apartments in a growing number of major cities around the world. With flexible terms and homes in vibrant, centrally based neighborhoods, you’ll feel at home and free to roam for as long as you want — a month, a year, or longer. \n",
      "\n",
      "Each apartment is thoughtfully designed with exclusive furnishings, fully equipped kitchens, and incredible amenities – making every day a five-star experience. From day one, you’ll enjoy high-speed Wi-Fi, premium linens, and smart home entertainment. Plus, access to pools, gyms, and outdoor spaces in select buildings.\n",
      "\n",
      "Why stress over your apartment? We provide a hassle-free alternative — a consistent, quality guest experience that starts even before you arrive. Because we let you book our most up-to-date apartment listings online, confirm with a click, pay securely, and check in easily. \n",
      "\n",
      "Even better? You can enhance your stay with car rentals, grocery delivery, laundry services, and more through our special partnerships. \n",
      "\n",
      "During your stay\n",
      "Upon arrival, you’ll either be greeted personally by a Blueground team member or given self-check-in instructions. The entire apartment is yours! You’ll enjoy reliable support via email, phone, and our Guest App, where you can request everything from a home cleaning to extra towels. \n",
      "\n",
      "We’ll share all details upon confirmation of your stay.\n",
      " ==================================================\n",
      "neighborhood_overview type: <class 'str'>\n",
      "neighborhood_overview sample value: This furnished apartment is situated in Back Bay in the heart of Boston, proximate to Charles River, Public Garden, and Boston Common. The neighborhood stands out through the combination of options it offers. Housing many of the cities most well-known office towers, it also offers a wide variety of shopping and dining options. During weekends, established professionals and graduate students, living in the area, head to Newbury Street for upscale shopping and a stroll along the Commonwealth Avenue Mall. The neighborhood is ideal for active, outdoor lovers, as it is only minutes away from the Esplanade and offers ample green space for jogging and biking. North and South Stations are easily accessible by car and public transit, as is the financial district.\n",
      " ==================================================\n"
     ]
    }
   ],
   "source": [
    "# Choose another index which does not have null values\n",
    "for col in ['name', 'description', 'host_about', 'neighborhood_overview']:\n",
    "    print(f'{col} type: {type(lstn[col][10])}\\n{col} sample value: {lstn[col][10]}\\n {\"=\"*50}')"
   ]
  },
  {
   "cell_type": "code",
   "execution_count": 24,
   "id": "993dad44-2b61-4c72-919c-437bc15b3a40",
   "metadata": {},
   "outputs": [
    {
     "name": "stdout",
     "output_type": "stream",
     "text": [
      "name :  0\n",
      "description :  12\n",
      "host_about :  804\n",
      "neighborhood_overview :  978\n"
     ]
    }
   ],
   "source": [
    "# Get counts of null values\n",
    "for col in ['name', 'description', 'host_about', 'neighborhood_overview']:\n",
    "    print(col, ': ',lstn[col].isnull().sum())"
   ]
  },
  {
   "cell_type": "code",
   "execution_count": 25,
   "id": "bbdcfd9a-279c-44cf-beb1-15f97c77e98a",
   "metadata": {},
   "outputs": [],
   "source": [
    "# Null values can be easily imputed with 'no_text_entered'\n",
    "#  This can be done as a formal imputation step.\n",
    "#  The following source confirms taht underscores will not be removed by count vectorizer:\n",
    "    # https://stackoverflow.com/questions/67856904/countvectorizer-token-pattern-to-not-catch-underscore\n",
    "for col in ['name', 'description', 'host_about', 'neighborhood_overview']:\n",
    "    lstn[col].fillna('no_text_entered', inplace=True)"
   ]
  },
  {
   "cell_type": "code",
   "execution_count": 26,
   "id": "d56e7fd8-c8b9-486c-b023-12c92fc6a434",
   "metadata": {},
   "outputs": [
    {
     "name": "stdout",
     "output_type": "stream",
     "text": [
      "NAME\n",
      "(2781, 177)\n",
      "Number of NaN values (price): 0\n",
      "Number of NaN values (log price): 0\n",
      "\n",
      "2ba              0.125410\n",
      "luxury           0.113533\n",
      "2br              0.110461\n",
      "garden           0.075490\n",
      "back bay         0.073437\n",
      "                   ...   \n",
      "queen bedroom   -0.106612\n",
      "furnished       -0.107381\n",
      "bedroom         -0.111740\n",
      "bedroom in      -0.127765\n",
      "room            -0.156941\n",
      "Name: price__, Length: 175, dtype: float64\n",
      "==================================================\n",
      "\n",
      "2br             0.166488\n",
      "luxury          0.157902\n",
      "back bay        0.150520\n",
      "back            0.148863\n",
      "bay             0.141794\n",
      "                  ...   \n",
      "private        -0.195543\n",
      "private room   -0.198361\n",
      "bedroom        -0.199419\n",
      "bedroom in     -0.235728\n",
      "room           -0.315639\n",
      "Name: log_price__, Length: 175, dtype: float64\n",
      "==================================================\n",
      "==================================================\n",
      "\n",
      "DESCRIPTION\n",
      "(2781, 5341)\n",
      "Number of NaN values (price): 0\n",
      "Number of NaN values (log price): 0\n",
      "\n",
      "the master            0.187715\n",
      "groups                0.187076\n",
      "luxurious             0.175014\n",
      "master                0.152411\n",
      "grill                 0.152067\n",
      "                        ...   \n",
      "this home br br      -0.145318\n",
      "about this home br   -0.145318\n",
      "about this home      -0.146687\n",
      "room                 -0.149926\n",
      "shared               -0.185039\n",
      "Name: price__, Length: 5339, dtype: float64\n",
      "==================================================\n",
      "\n",
      "fully                  0.206234\n",
      "offers                 0.205830\n",
      "luxury                 0.201842\n",
      "amenities              0.195411\n",
      "building               0.190807\n",
      "                         ...   \n",
      "br about this home    -0.297490\n",
      "space br about this   -0.297490\n",
      "about this home       -0.299563\n",
      "room in               -0.313415\n",
      "shared                -0.343221\n",
      "Name: log_price__, Length: 5339, dtype: float64\n",
      "==================================================\n",
      "==================================================\n",
      "\n",
      "HOST_ABOUT\n",
      "(2781, 4042)\n",
      "Number of NaN values (price): 0\n",
      "Number of NaN values (log price): 0\n",
      "\n",
      "boston                0.201714\n",
      "park                  0.199056\n",
      "that is               0.177564\n",
      "hotel                 0.176036\n",
      "in downtown boston    0.172271\n",
      "                        ...   \n",
      "hidden               -0.146480\n",
      "to rent              -0.147128\n",
      "experience of        -0.147430\n",
      "there to             -0.150796\n",
      "shared               -0.166520\n",
      "Name: price__, Length: 4040, dtype: float64\n",
      "==================================================\n",
      "\n",
      "our                  0.228408\n",
      "provide              0.222126\n",
      "boston               0.199993\n",
      "team                 0.199038\n",
      "that                 0.198781\n",
      "                       ...   \n",
      "rental experience   -0.295891\n",
      "to rent             -0.296548\n",
      "experience of       -0.298365\n",
      "there to            -0.308152\n",
      "shared              -0.339879\n",
      "Name: log_price__, Length: 4040, dtype: float64\n",
      "==================================================\n",
      "==================================================\n",
      "\n",
      "NEIGHBORHOOD_OVERVIEW\n",
      "(2781, 2734)\n",
      "Number of NaN values (price): 0\n",
      "Number of NaN values (log price): 0\n",
      "\n",
      "guests          0.156683\n",
      "the building    0.144765\n",
      "crossing the    0.135848\n",
      "why             0.125800\n",
      "provide         0.121236\n",
      "                  ...   \n",
      "pharmacy       -0.065337\n",
      "bu             -0.066685\n",
      "walk away      -0.068140\n",
      "college        -0.070352\n",
      "boston br      -0.072412\n",
      "Name: price__, Length: 2732, dtype: float64\n",
      "==================================================\n",
      "\n",
      "the                0.245732\n",
      "back bay           0.215875\n",
      "back               0.212478\n",
      "in                 0.205664\n",
      "in the             0.204020\n",
      "                     ...   \n",
      "umass             -0.100681\n",
      "supermarket       -0.111916\n",
      "dorchester        -0.113506\n",
      "boston br         -0.114688\n",
      "no_text_entered   -0.140160\n",
      "Name: log_price__, Length: 2732, dtype: float64\n",
      "==================================================\n",
      "==================================================\n",
      "\n"
     ]
    }
   ],
   "source": [
    "'''\n",
    "Write a for loop that will:\n",
    "* Take all text columns and Count Vectorize their words and ngrams\n",
    "* Get the correlation coefficients for all words/ngrams with respect to price and log_price\n",
    "* Create a list stored as a global variable of words/ngrams whose correlation coefficient \n",
    "    is above the specified value\n",
    "''' \n",
    "\n",
    "for col in ['name', 'description', 'host_about', 'neighborhood_overview']:\n",
    "    \n",
    "    print(f'{col.upper()}')\n",
    "    \n",
    "    # Create a temporary variable to establish the pandas series based on the list\n",
    "    column_data = lstn[col]\n",
    "    \n",
    "    # Instantiate count vectorizer\n",
    "    cvec_function = CountVectorizer(ngram_range=(1, 4), min_df=0.01)\n",
    "\n",
    "    # Create a new dataframe with the count vectorized data from the selected column\n",
    "    cvec_df = pd.DataFrame(cvec_function.fit_transform(column_data).todense(), \n",
    "                 columns = cvec_function.get_feature_names_out())\n",
    "    \n",
    "    # Add the price and log price columns for easy correlations\n",
    "    cvec_df['price__'] = lstn.price\n",
    "    cvec_df['log_price__'] = col_logger(lstn.price)\n",
    "    print(cvec_df.shape)\n",
    "\n",
    "    # Create the correlation datafarme:\n",
    "    corr_df = cvec_df.corr()\n",
    "\n",
    "    # First ensure there are no NaN values\n",
    "    print(f\"Number of NaN values (price): {corr_df['price__'].isnull().sum()}\")\n",
    "    print(f\"Number of NaN values (log price): {corr_df['log_price__'].isnull().sum()}\")\n",
    "\n",
    "    # Find the correlation corefficients for each of the selected columns to the price:\n",
    "    #  Need to filter out correlations to price and log_price with help from the following sources:\n",
    "        # https://stackoverflow.com/questions/28256761/select-pandas-rows-by-excluding-index-number\n",
    "        # https://pandas.pydata.org/docs/reference/api/pandas.DataFrame.isin.html\n",
    "    price_corr = corr_df['price__'][~corr_df['price__'].index.isin(['price__', 'log_price__'])]\n",
    "    log_price_corr = corr_df['log_price__'][~corr_df['log_price__'].index.isin(['price__', 'log_price__'])]\n",
    "\n",
    "    # Print the values to see them\n",
    "    print(f'\\n{price_corr.sort_values(ascending=False)}')\n",
    "    print('='*50)\n",
    "    print(f'\\n{log_price_corr.sort_values(ascending=False)}')\n",
    "    print('='*50)\n",
    "    print('='*50+'\\n')\n",
    "\n",
    "    # Greate list of features (ngrams/words) with relatively high correlation coefficients\n",
    "    globals()[f'high_cor_feats_{col}'] = list(log_price_corr[abs(log_price_corr) >= .1].index)\n",
    "#==============================================================================================="
   ]
  },
  {
   "cell_type": "markdown",
   "id": "f5613049-902c-417e-adf6-52305f459727",
   "metadata": {},
   "source": [
    "#### ABOVE OUTPUT:\n",
    "The above output provides maximum and minimum correlation coefficient for each feature first versus price, then versus log price."
   ]
  },
  {
   "cell_type": "code",
   "execution_count": 27,
   "id": "592cbe5d-889a-4f2a-9ad4-59a5e2c7643d",
   "metadata": {},
   "outputs": [
    {
     "name": "stdout",
     "output_type": "stream",
     "text": [
      "42\n",
      "827\n",
      "1334\n",
      "380\n"
     ]
    }
   ],
   "source": [
    "# See how many 'high' correlation sub-features were captured for each lstn feature:\n",
    "print(len(high_cor_feats_name))\n",
    "print(len(high_cor_feats_description))\n",
    "print(len(high_cor_feats_host_about))\n",
    "print(len(high_cor_feats_neighborhood_overview))"
   ]
  },
  {
   "cell_type": "markdown",
   "id": "fb859cbc-5fc1-4ae7-a732-e5c5342e4d48",
   "metadata": {},
   "source": [
    "#### OBSERVATIONS:\n",
    "* Many words in each dataset appear to have correlation coefficients against the log_price data which are above the specified threshold\n",
    "* Examining the words/ngrams created would be too time consuming and off little value.  Thus, the correlation coefficents are heavily relied upon to identify useful correlations"
   ]
  },
  {
   "cell_type": "markdown",
   "id": "f8d209cd-1fa7-4e72-87e0-4d21b340c934",
   "metadata": {},
   "source": [
    "# 5 - Final Thoughts on Feature Engineering\n",
    "With a plethora of features engineered and available it is possible that a relatively accurate model could be made.  The correlations will be the first determining factor before the models are run and true performance is evaluated."
   ]
  },
  {
   "cell_type": "markdown",
   "id": "0a4f7683-8c78-47bb-9942-84ea9514e5b8",
   "metadata": {
    "tags": []
   },
   "source": [
    "---\n",
    "---\n",
    "# APPENDIX\n",
    "The code below provides a framework to begin to encode the host location and neighborhood information.  This was not able to be completed before the deadline for this project.  However, there is still value in examining this information.  The general philosophy is that if the host is setting the price, understanding as much information as possible about that host may help understand their pricing strategy.\n",
    "\n",
    "A couple of general themes were going to be explored below:\n",
    "* Does the location of the host provide any information aobut pricing?\n",
    "* Is there a price difference for hosts who do not live in the same neighborhood as their listing?\n",
    "* Are hosts who live in other states/regions and may have properties for passive income likely to have higher or lower priced listings?"
   ]
  },
  {
   "cell_type": "markdown",
   "id": "769de75d-efa4-4f62-9683-fcf0ac13a33b",
   "metadata": {},
   "source": [
    "## A - Examine and Encode Host Location and Neighborhood"
   ]
  },
  {
   "cell_type": "code",
   "execution_count": 28,
   "id": "66692261-6d50-4a6f-9963-a1292cc9536d",
   "metadata": {},
   "outputs": [
    {
     "name": "stdout",
     "output_type": "stream",
     "text": [
      "90\n"
     ]
    },
    {
     "data": {
      "text/plain": [
       "Allston-Brighton        339\n",
       "Cambridge               307\n",
       "Dorchester              209\n",
       "Jamaica Plain           167\n",
       "Roxbury                 164\n",
       "                       ... \n",
       "North Virginia Beach      1\n",
       "St. Elizabeth's           1\n",
       "Central Austin            1\n",
       "Haile Plantation          1\n",
       "Government Center         1\n",
       "Name: host_neighbourhood, Length: 100, dtype: int64"
      ]
     },
     "execution_count": 28,
     "metadata": {},
     "output_type": "execute_result"
    }
   ],
   "source": [
    "# Get value counts for the host neighborhood\n",
    "host_nbd = lstn.host_neighbourhood.value_counts()\n",
    "print(lstn.host_neighbourhood.isnull().sum())\n",
    "host_nbd"
   ]
  },
  {
   "cell_type": "code",
   "execution_count": 29,
   "id": "5c6ae2d5-6d75-4975-9b4d-df685f7bc073",
   "metadata": {},
   "outputs": [
    {
     "name": "stdout",
     "output_type": "stream",
     "text": [
      "629\n"
     ]
    },
    {
     "data": {
      "text/plain": [
       "Boston, MA                      1531\n",
       "New York, NY                     321\n",
       "Massachusetts, United States      79\n",
       "Hawthorne, NJ                     29\n",
       "Cambridge, MA                     19\n",
       "                                ... \n",
       "Richmond, United Kingdom           1\n",
       "Swampscott, MA                     1\n",
       "Bangkok, Thailand                  1\n",
       "Stoneham, MA                       1\n",
       "Winthrop, MA                       1\n",
       "Name: host_location, Length: 99, dtype: int64"
      ]
     },
     "execution_count": 29,
     "metadata": {},
     "output_type": "execute_result"
    }
   ],
   "source": [
    "# Get values counts for the host location\n",
    "host_local = lstn.host_location.value_counts()\n",
    "print(lstn.host_location.isnull().sum())\n",
    "host_local"
   ]
  },
  {
   "cell_type": "code",
   "execution_count": 30,
   "id": "8267279e-5d65-40c8-8320-5ed6907a6440",
   "metadata": {},
   "outputs": [
    {
     "name": "stdout",
     "output_type": "stream",
     "text": [
      "Neighborhood null count: 90\n",
      "Location null count: 629\n"
     ]
    }
   ],
   "source": [
    "# Print the null counts for each of the above features\n",
    "print(f'Neighborhood null count: {lstn.host_neighbourhood.isnull().sum()}\\nLocation null count: {lstn.host_location.isnull().sum()}')"
   ]
  },
  {
   "cell_type": "markdown",
   "id": "e6b59c8f-55a7-448a-a66f-0c6dea657f03",
   "metadata": {},
   "source": [
    "#### OBSERVATIONS:\n",
    "Many locations have some form of state designator (like 'Boston, MA').  This will help find all locations which are in Massachusetts.\n",
    "\n",
    "There also appear to be many hosts who live in New York City.  These should be encoded as their own category."
   ]
  },
  {
   "cell_type": "code",
   "execution_count": 31,
   "id": "f4a51e92-d11e-40e9-9129-d03e376d4b42",
   "metadata": {},
   "outputs": [
    {
     "data": {
      "text/plain": [
       "Boston, MA           1531\n",
       "Cambridge, MA          19\n",
       "Brookline, MA          11\n",
       "Newburyport, MA         8\n",
       "Wayland, MA             5\n",
       "Wellesley, MA           4\n",
       "Milton, MA              4\n",
       "Quincy, MA              4\n",
       "Braintree, MA           3\n",
       "Newton, MA              3\n",
       "Malden, MA              3\n",
       "Nantucket, MA           2\n",
       "Dedham, MA              2\n",
       "Norwood, MA             2\n",
       "Groton, MA              1\n",
       "Lynnfield, MA           1\n",
       "Acton, MA               1\n",
       "Lancaster, MA           1\n",
       "Watertown, MA           1\n",
       "Revere, MA              1\n",
       "Wrentham, MA            1\n",
       "Boxford, MA             1\n",
       "Beverly, MA             1\n",
       "Melrose, MA             1\n",
       "Dracut, MA              1\n",
       "Walpole, MA             1\n",
       "North Andover, MA       1\n",
       "Stoughton, MA           1\n",
       "Arlington, MA           1\n",
       "Concord, MA             1\n",
       "Andover, MA             1\n",
       "Weymouth, MA            1\n",
       "Swampscott, MA          1\n",
       "Stoneham, MA            1\n",
       "Winthrop, MA            1\n",
       "Name: host_location, dtype: int64"
      ]
     },
     "execution_count": 31,
     "metadata": {},
     "output_type": "execute_result"
    }
   ],
   "source": [
    "# Search for locations iwth 'MA' in them\n",
    "\n",
    "# NEXT TIME, DO THE FOLLOWING STEPS ALL WITH A .lower() TO DO THEM ALL IN ONE\n",
    "host_local[host_local.index.str.contains('MA')]"
   ]
  },
  {
   "cell_type": "code",
   "execution_count": 32,
   "id": "956f8680-ad41-4fef-8859-24627872de69",
   "metadata": {},
   "outputs": [
    {
     "data": {
      "text/plain": [
       "Massachusetts, United States    79\n",
       "Malden, MA                       3\n",
       "Macau                            1\n",
       "Name: host_location, dtype: int64"
      ]
     },
     "execution_count": 32,
     "metadata": {},
     "output_type": "execute_result"
    }
   ],
   "source": [
    "host_local[host_local.index.str.contains('Ma')]"
   ]
  },
  {
   "cell_type": "code",
   "execution_count": 33,
   "id": "baf68bfd-675e-4fc5-947d-5b4d70ea371d",
   "metadata": {},
   "outputs": [
    {
     "data": {
      "text/plain": [
       "Jamaica    3\n",
       "Name: host_location, dtype: int64"
      ]
     },
     "execution_count": 33,
     "metadata": {},
     "output_type": "execute_result"
    }
   ],
   "source": [
    "host_local[host_local.index.str.contains('ma')]"
   ]
  },
  {
   "cell_type": "code",
   "execution_count": 34,
   "id": "c59b1420-7f54-4355-b869-fbda8eda18e7",
   "metadata": {},
   "outputs": [
    {
     "data": {
      "text/plain": [
       "New York, NY         321\n",
       "Central Islip, NY      1\n",
       "Name: host_location, dtype: int64"
      ]
     },
     "execution_count": 34,
     "metadata": {},
     "output_type": "execute_result"
    }
   ],
   "source": [
    "# Find all hosts who live in NY\n",
    "host_local[host_local.index.str.contains('NY')]"
   ]
  },
  {
   "cell_type": "code",
   "execution_count": 35,
   "id": "e6a354b6-8d97-4b98-a89d-d0f314cc3fe7",
   "metadata": {},
   "outputs": [],
   "source": [
    "# From the above filters, create a list of locations which are not mass or new york city\n",
    "not_ma_ny_list = list(host_local[(~host_local.index.str.contains('MA')) & (~host_local.index.str.contains('Ma')) & (~host_local.index.str.contains('New York, NY'))].index)"
   ]
  },
  {
   "cell_type": "code",
   "execution_count": 36,
   "id": "eff94b48-3bfe-433c-aa96-13b00ba25ae6",
   "metadata": {},
   "outputs": [],
   "source": [
    "# Need to append 'Macau' from the searches above\n",
    "not_ma_ny_list.append('Macau')"
   ]
  },
  {
   "cell_type": "code",
   "execution_count": 37,
   "id": "64c197d0-608a-4ede-b732-63382757cf9c",
   "metadata": {},
   "outputs": [],
   "source": [
    "# Create a list of places which are not Boston\n",
    "outside_bos = list(host_local[(host_local.index.str.contains('MA')) & (~host_local.index.str.contains('Boston'))].index)"
   ]
  },
  {
   "cell_type": "code",
   "execution_count": 38,
   "id": "f6e4f8e9-be06-4d0b-bb01-73fd72999296",
   "metadata": {},
   "outputs": [],
   "source": [
    "# Need to add the general Massachusetts location to the outside_bos_cam list\n",
    "outside_bos.append('Massachusetts, United States')"
   ]
  },
  {
   "cell_type": "code",
   "execution_count": 39,
   "id": "99fc88ce-6087-4b8d-8e4f-31678616eaa4",
   "metadata": {},
   "outputs": [],
   "source": [
    "# Fill null values prior to re-mapping locations\n",
    "lstn.host_location.fillna('not_listed', inplace=True)"
   ]
  },
  {
   "cell_type": "code",
   "execution_count": 40,
   "id": "b0b5ff7e-45a2-4777-b09d-a16e1a9d71f3",
   "metadata": {},
   "outputs": [],
   "source": [
    "# Create a function that will encode all the values for location\n",
    "def location_classifier(x):\n",
    "    if x in outside_bos:\n",
    "        return 'outside_bos'\n",
    "    elif x in not_ma_ny_list:\n",
    "        return 'some_other_place'\n",
    "    else:\n",
    "        return x"
   ]
  },
  {
   "cell_type": "code",
   "execution_count": 41,
   "id": "c1c711ab-91ca-4e7b-9478-a1623445bcb8",
   "metadata": {
    "tags": []
   },
   "outputs": [
    {
     "data": {
      "text/plain": [
       "Boston, MA          1531\n",
       "not_listed           629\n",
       "New York, NY         321\n",
       "outside_bos          170\n",
       "some_other_place     130\n",
       "Name: host_location, dtype: int64"
      ]
     },
     "execution_count": 41,
     "metadata": {},
     "output_type": "execute_result"
    }
   ],
   "source": [
    "# Check value counts to ensure proper encoding \n",
    "lstn.host_location.apply(lambda x: location_classifier(x)).value_counts()"
   ]
  },
  {
   "cell_type": "code",
   "execution_count": 42,
   "id": "7c18ef01-74ec-4b1c-b94e-0be07499bb7a",
   "metadata": {},
   "outputs": [],
   "source": [
    "# Establish the enocded values in the dataframe\n",
    "lstn.host_location = lstn.host_location.apply(lambda x: location_classifier(x))"
   ]
  },
  {
   "cell_type": "code",
   "execution_count": 43,
   "id": "a887d993-6bd6-4577-a990-4908cb2243b9",
   "metadata": {},
   "outputs": [],
   "source": [
    "# Fill null values prior to re-mapping locations\n",
    "lstn.host_neighbourhood.fillna('not_listed', inplace=True)"
   ]
  },
  {
   "cell_type": "code",
   "execution_count": 44,
   "id": "6fd1d611-87d5-44f3-9e6e-12eafe4c92ab",
   "metadata": {},
   "outputs": [
    {
     "data": {
      "text/plain": [
       "Dorchester           174\n",
       "Jamaica Plain        142\n",
       "Roxbury              116\n",
       "Allston-Brighton     110\n",
       "Back Bay              85\n",
       "                    ... \n",
       "Southern Mattapan      1\n",
       "Orient Heights         1\n",
       "Wellington Hill        1\n",
       "Rockport               1\n",
       "Government Center      1\n",
       "Name: host_neighbourhood, Length: 64, dtype: int64"
      ]
     },
     "execution_count": 44,
     "metadata": {},
     "output_type": "execute_result"
    }
   ],
   "source": [
    "# See the neighborhoods that are listed for non-Boston locations\n",
    "lstn[lstn.host_location == 'Boston, MA']['host_neighbourhood'].value_counts()"
   ]
  },
  {
   "cell_type": "code",
   "execution_count": 45,
   "id": "34e58f70-94b8-44a5-a9ae-a3d278ab758f",
   "metadata": {},
   "outputs": [],
   "source": [
    "'''\n",
    "Above, some Boston neighborhoods have been encoded in non-Boston locations, probably as general\n",
    "Massachusetts locations.  The locations should be fixed by using the boston locations to get a\n",
    "list of Boston neighborhoods and then imputing Boston into the fields that need to be corrected.\n",
    "'''\n",
    "\n",
    "# Create a list of Boston neighborhoods\n",
    "bos_nbr_list = list(lstn[lstn.host_location == 'Boston, MA']['host_neighbourhood'].value_counts().index)"
   ]
  },
  {
   "cell_type": "markdown",
   "id": "748bebfd-7022-43d3-b3a1-0b0508e20bc2",
   "metadata": {},
   "source": [
    "The following soureces may be helpful when attempting to proverly fill in the missing data above:\n",
    "* https://stackoverflow.com/questions/33769860/pandas-apply-but-only-for-rows-where-a-condition-is-met\n",
    "* https://www.geeksforgeeks.org/apply-a-function-to-single-or-selected-columns-or-rows-in-pandas-dataframe/\n",
    "* https://builtin.com/data-science/pandas-filter\n",
    "* https://www.statology.org/pandas-series-filter-by-value/\n"
   ]
  }
 ],
 "metadata": {
  "kernelspec": {
   "display_name": "Python 3 (ipykernel)",
   "language": "python",
   "name": "python3"
  },
  "language_info": {
   "codemirror_mode": {
    "name": "ipython",
    "version": 3
   },
   "file_extension": ".py",
   "mimetype": "text/x-python",
   "name": "python",
   "nbconvert_exporter": "python",
   "pygments_lexer": "ipython3",
   "version": "3.10.9"
  }
 },
 "nbformat": 4,
 "nbformat_minor": 5
}
