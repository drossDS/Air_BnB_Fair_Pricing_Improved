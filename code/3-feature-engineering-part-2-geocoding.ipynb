{
 "cells": [
  {
   "cell_type": "markdown",
   "id": "6fdb0ff1-fa9e-432d-9948-e391160c21e6",
   "metadata": {
    "tags": []
   },
   "source": [
    "---\n",
    "# NOTEBOOK 3 - FEATURE ENGINEERING PART 2:\n",
    "## Create Distance to Public Transit Feature\n",
    "---"
   ]
  },
  {
   "cell_type": "markdown",
   "id": "aaa29fd8-106a-490f-aa80-4ddc0d1a5c90",
   "metadata": {},
   "source": [
    "# PROJECT : Boston Airbnb Fair Pricing Tool and Recommender"
   ]
  },
  {
   "cell_type": "markdown",
   "id": "7141713b-d141-4725-b909-4eaf027d98fc",
   "metadata": {
    "jp-MarkdownHeadingCollapsed": true,
    "tags": []
   },
   "source": [
    "# Notebook Overview and Data Sources:\n",
    "The purpose of this notebook is to gather locations of public transit subway stops in the Boston area and calculate the distance between each listing location and its closest transit stop.  In Boston, the subway is called 'The T' and the stops are locations where the trains will stop to pick up passengers.  It shoud here be noted that ONLY T-stops are considered as finding all bus stops is not feasible.  The motivation in doing this is to explore whether or not a closer proximity to the public transit would increase the value/price of an Airbnb listing, especially considering Boston's limited parking, confusing roadways, and notoriously aggressive drivers (I'm from Massachusetts so I can confirm this).\n",
    "\n",
    "\n",
    "Latitude and longitude data are provided for each listing, and the subway stop locations were gathered via the following method:\n",
    "* The [MBTA Stations](https://www.mbta.com/stops/subway) page was scraped to find all urls for all stations\n",
    "* Station site was then scraped to find the station address\n",
    "* The Google Geocoding API was then used to retrieve latitude and longitude for each address.  See the documentation [here](https://developers.google.com/maps/documentation/geocoding)\n",
    "\n",
    "### Calculating 'Distances' to T-Stops\n",
    "For simplicity the 'distance' was directly calculated as the Euclidean distances between the latitude and longitude coordinates for the stations and listings.  This is not an actual distance measured in standard units of length as latitude and longitude do not correspond to standard distance measures and can vary depending on location.  The following assumptions were made to allow this:\n",
    "* The Boston area is contained within a 15-mile radius, which compared to the approximately 8,000-mile diameter planet earth, is very small.  With this, angular displacements represented by latitude and longitude angular difference are assumed to sufficiently correspond to relatively constant changes in distance\n",
    "    * It must be noted that one degree of longitudinal displacement is NOT equal to one degree of displacement in latitude at the average latitude of the Boston Airbnb listings of 42.3 deg.  A correction factor approximately equaling 0.74 will be applied to the longitude data when computing the distances\n",
    "* The distances are calculated as Euclidean distances to provide a simple and rough estimate of how far away the nearest T-stop is for each listing and ignores street paths and roads"
   ]
  },
  {
   "cell_type": "markdown",
   "id": "16a546ea-5723-4d04-bcd6-acb25f164236",
   "metadata": {},
   "source": [
    "# NOTE REGARDING GOOGLE GEOCODING API DATA\n",
    "The data collected via the Geocoding API are not pushed to GitHub as Google appears to have restrictions on the data obtained.  The [Google Maps Platform Terms of Service](https://cloud.google.com/maps-platform/terms?_gl=1*1v1wn86*_ga*NjA0MzgzMTI1LjE2ODU4NjA1NTU.*_ga_NRWSTWS78N*MTY4NjMyODIwNy44LjEuMTY4NjMyODQ3MS4wLjAuMA..), section 3.2.3(a) does not appear to permit the user to '(i) pre-fetch, index, store, reshare, or rehost Google Maps Content outside the services.'  This may imply that storing the geocoding data outside of this local machine where others can access it, is not allowed.\n",
    "\n",
    "Thus, while it's not fully clear why Google would offer these services but disallow the publication of its already-publicly available data, the geocode data will be omitted from the public repo."
   ]
  },
  {
   "cell_type": "markdown",
   "id": "24268af4-b43b-4e38-8b4a-ac1654c42122",
   "metadata": {},
   "source": [
    "# 1 - Library Imports and Read-in Data"
   ]
  },
  {
   "cell_type": "code",
   "execution_count": 1,
   "id": "7755b9ee-cabe-4c1f-bc54-0c3ec15ccddb",
   "metadata": {},
   "outputs": [],
   "source": [
    "# Basic Imports\n",
    "import pandas as pd\n",
    "import numpy as np\n",
    "import matplotlib.pyplot as plt\n",
    "import seaborn as sns\n",
    "\n",
    "# Import Math for help with distances\n",
    "import math\n",
    "\n",
    "# Import the config file\n",
    "import config\n",
    "\n",
    "# For times:\n",
    "import time\n",
    "\n",
    "# Set a random seed for imputation\n",
    "#  Source:  https://numpy.org/doc/stable/reference/random/generated/numpy.random.seed.html\n",
    "np.random.seed(42)\n",
    "\n",
    "# for Google Geocoding API\n",
    "'''\n",
    "Setting up the API key and getting started was enabled with help from the following sources:\n",
    "* https://developers.google.com/maps/documentation/geocoding/?csw=1\n",
    "* https://developers.google.com/maps/documentation/geocoding/overview\n",
    "* https://developers.google.com/maps/get-started#api-key\n",
    "* https://developers.google.com/maps/documentation/geocoding/get-api-key\n",
    "* https://github.com/googlemaps/google-maps-services-python\n",
    "'''\n",
    "import googlemaps\n",
    "from datetime import datetime\n",
    "\n",
    "# Import the Beatiful Soup and Requests Packages for web scraping:\n",
    "import requests\n",
    "from bs4 import BeautifulSoup\n",
    "\n",
    "# Need to import time to add waits/pauses:\n",
    "import time"
   ]
  },
  {
   "cell_type": "code",
   "execution_count": 2,
   "id": "9e05fb25-c6e5-40e9-a21b-de9580fecff4",
   "metadata": {},
   "outputs": [],
   "source": [
    "# Read in the data\n",
    "lstn = pd.read_csv('../data/listings_train_2.csv')"
   ]
  },
  {
   "cell_type": "code",
   "execution_count": 3,
   "id": "480a3ebb-36f9-43f0-aa2b-0d26c2fd245b",
   "metadata": {},
   "outputs": [
    {
     "name": "stdout",
     "output_type": "stream",
     "text": [
      "<class 'pandas.core.frame.DataFrame'>\n",
      "RangeIndex: 2781 entries, 0 to 2780\n",
      "Data columns (total 56 columns):\n",
      " #   Column                                        Non-Null Count  Dtype  \n",
      "---  ------                                        --------------  -----  \n",
      " 0   id                                            2781 non-null   int64  \n",
      " 1   name                                          2781 non-null   object \n",
      " 2   description                                   2769 non-null   object \n",
      " 3   neighborhood_overview                         1803 non-null   object \n",
      " 4   host_id                                       2781 non-null   int64  \n",
      " 5   host_since                                    2781 non-null   float64\n",
      " 6   host_location                                 2152 non-null   object \n",
      " 7   host_about                                    1977 non-null   object \n",
      " 8   host_response_time                            2781 non-null   object \n",
      " 9   host_response_rate                            2781 non-null   float64\n",
      " 10  host_acceptance_rate                          2781 non-null   float64\n",
      " 11  host_is_superhost                             2781 non-null   object \n",
      " 12  host_neighbourhood                            2691 non-null   object \n",
      " 13  host_listings_count                           2781 non-null   int64  \n",
      " 14  host_total_listings_count                     2781 non-null   int64  \n",
      " 15  host_verifications                            2781 non-null   object \n",
      " 16  host_has_profile_pic                          2781 non-null   object \n",
      " 17  host_identity_verified                        2781 non-null   object \n",
      " 18  neighbourhood_cleansed                        2781 non-null   object \n",
      " 19  latitude                                      2781 non-null   float64\n",
      " 20  longitude                                     2781 non-null   float64\n",
      " 21  property_type                                 2781 non-null   object \n",
      " 22  room_type                                     2781 non-null   object \n",
      " 23  accommodates                                  2781 non-null   int64  \n",
      " 24  bathrooms_text                                2781 non-null   object \n",
      " 25  bedrooms                                      2781 non-null   float64\n",
      " 26  beds                                          2781 non-null   float64\n",
      " 27  amenities                                     2781 non-null   object \n",
      " 28  price                                         2781 non-null   float64\n",
      " 29  minimum_nights                                2781 non-null   int64  \n",
      " 30  maximum_nights                                2781 non-null   int64  \n",
      " 31  has_availability                              2781 non-null   object \n",
      " 32  availability_30                               2781 non-null   int64  \n",
      " 33  availability_60                               2781 non-null   int64  \n",
      " 34  availability_90                               2781 non-null   int64  \n",
      " 35  availability_365                              2781 non-null   int64  \n",
      " 36  number_of_reviews                             2781 non-null   int64  \n",
      " 37  number_of_reviews_ltm                         2781 non-null   int64  \n",
      " 38  number_of_reviews_l30d                        2781 non-null   int64  \n",
      " 39  review_scores_rating                          1972 non-null   float64\n",
      " 40  review_scores_accuracy                        1966 non-null   float64\n",
      " 41  review_scores_cleanliness                     1967 non-null   float64\n",
      " 42  review_scores_checkin                         1966 non-null   float64\n",
      " 43  review_scores_communication                   1967 non-null   float64\n",
      " 44  review_scores_location                        1966 non-null   float64\n",
      " 45  review_scores_value                           1966 non-null   float64\n",
      " 46  license                                       1645 non-null   object \n",
      " 47  instant_bookable                              2781 non-null   object \n",
      " 48  calculated_host_listings_count                2781 non-null   int64  \n",
      " 49  calculated_host_listings_count_entire_homes   2781 non-null   int64  \n",
      " 50  calculated_host_listings_count_private_rooms  2781 non-null   int64  \n",
      " 51  calculated_host_listings_count_shared_rooms   2781 non-null   int64  \n",
      " 52  reviews_per_month                             2781 non-null   float64\n",
      " 53  pcnt_ent_homes                                2781 non-null   float64\n",
      " 54  pcnt_private                                  2781 non-null   float64\n",
      " 55  pcnt_shared                                   2781 non-null   float64\n",
      "dtypes: float64(19), int64(18), object(19)\n",
      "memory usage: 1.2+ MB\n"
     ]
    }
   ],
   "source": [
    "lstn.info()"
   ]
  },
  {
   "cell_type": "markdown",
   "id": "0dd4fe35-ad49-4847-8603-1cd43d175831",
   "metadata": {},
   "source": [
    "# 2 - Copy Over Necessary Functions From Previous Notebooks\n",
    "The functions below have been copied over from previous notebookd as they will be useful here.\n",
    "\n",
    "In a subsequent phase, these should be added to a .py file."
   ]
  },
  {
   "cell_type": "code",
   "execution_count": 4,
   "id": "0a58146f-025c-478a-b00a-4a2987f627f5",
   "metadata": {
    "tags": []
   },
   "outputs": [],
   "source": [
    "'''\n",
    "The col_logger function will need to be brough in from the other notebooks\n",
    "\n",
    "This has been modified to include a 0 imputation value n such that transforamtion\n",
    "occurs on log(n) and not log(0) which is undefined.\n",
    "'''\n",
    "\n",
    "def col_logger(data_column, zero_imp = 1):\n",
    "    # Since log(0) is undefined, 0's must be treated as log(1)\n",
    "    return data_column.apply(lambda x: np.log(zero_imp) if x==0 else np.log(x))"
   ]
  },
  {
   "cell_type": "code",
   "execution_count": 5,
   "id": "eb14fefd-d182-4b46-bba9-f5e10730b6a1",
   "metadata": {},
   "outputs": [],
   "source": [
    "# Create a more advanced 'plot vs' function which examines logs too\n",
    "\n",
    "def plot_vs_log(data_x, data_y, title = None, x_lbl = None, y_lbl = None, size = (15,4), x_log = None, y_log = None):\n",
    "    \n",
    "    # calculate the correlations\n",
    "    #  Source for correlation:  https://www.educative.io/answers/what-is-the-statistics-correlation-method-in-python\n",
    "    \n",
    "    # NaNs need to be dropped, in doing that, the array dimensions must match\n",
    "    #  To do that, indices will be compared to get the intersection of index values\n",
    "    #  Help with this from:  https://realpython.com/numpy-scipy-pandas-correlation-python/#pearson-correlation-coefficient\n",
    "    base_corr = round(pd.DataFrame([data_x, data_y]).T.corr().iloc[0][1], 3)\n",
    "    y_log_corr = round(pd.DataFrame([data_x, col_logger(data_y)]).T.corr().iloc[0][1], 3)\n",
    "    x_y_log_corr = round(pd.DataFrame([col_logger(data_x), col_logger(data_y)]).T.corr().iloc[0][1], 3)\n",
    "    \n",
    "    plt.figure(figsize = size)\n",
    "    \n",
    "    # Untransformed variables\n",
    "    plt.subplot(1, 3, 1)\n",
    "    plt.scatter(data_x, data_y)\n",
    "    if title == None:\n",
    "        plt.title(f'{data_y.name} \\nvs. {data_x.name} \\ncorr: {base_corr}')\n",
    "    else:\n",
    "        plt.title(title)\n",
    "\n",
    "    if x_lbl == None:\n",
    "        plt.xlabel(f'{data_x.name}')\n",
    "    else:\n",
    "        plt.xlabel(x_lbl) \n",
    "\n",
    "    if y_lbl == None:\n",
    "        plt.ylabel(f'{data_y.name}')\n",
    "    else:\n",
    "        plt.ylabel(y_lbl)\n",
    "\n",
    "    # For log scaale, source for help:  https://www.geeksforgeeks.org/how-to-plot-logarithmic-axes-in-matplotlib/\n",
    "    if x_log != None:\n",
    "        plt.xscale(x_log)\n",
    "        \n",
    "    if y_log != None:\n",
    "        plt.yscale(y_log)\n",
    "    \n",
    "    \n",
    "    # Log transform y (adjust the axis scale)\n",
    "    plt.subplot(1, 3, 2)\n",
    "    plt.scatter(data_x, data_y)\n",
    "    if title == None:\n",
    "        plt.title(f'Log {data_y.name} \\nvs. {data_x.name}\\ncorr: {y_log_corr}')\n",
    "    else:\n",
    "        plt.title(title)\n",
    "\n",
    "    if x_lbl == None:\n",
    "        plt.xlabel(f'{data_x.name}')\n",
    "    else:\n",
    "        plt.xlabel(x_lbl) \n",
    "\n",
    "    if y_lbl == None:\n",
    "        plt.ylabel(f'log {data_y.name}')\n",
    "    else:\n",
    "        plt.ylabel(y_lbl)\n",
    "\n",
    "    if x_log != None:\n",
    "        plt.xscale(x_log)\n",
    "        \n",
    "    plt.yscale('log')\n",
    "\n",
    "    # Log transform BOTH x and y (adjust the axis scales)\n",
    "    plt.subplot(1, 3, 3)\n",
    "    plt.scatter(data_x, data_y)\n",
    "    if title == None:\n",
    "        plt.title(f'Log {data_y.name} \\nvs. Log {data_x.name}\\ncorr: {x_y_log_corr}')\n",
    "    else:\n",
    "        plt.title(title)\n",
    "\n",
    "    if x_lbl == None:\n",
    "        plt.xlabel(f'log {data_x.name}')\n",
    "    else:\n",
    "        plt.xlabel(x_lbl) \n",
    "\n",
    "    if y_lbl == None:\n",
    "        plt.ylabel(f'log {data_y.name}')\n",
    "    else:\n",
    "        plt.ylabel(y_lbl)\n",
    "\n",
    "    plt.xscale('log')\n",
    "    plt.yscale('log')"
   ]
  },
  {
   "cell_type": "markdown",
   "id": "520ed38b-c665-4bf2-8a22-699c549c4a18",
   "metadata": {},
   "source": [
    "# 3 - Find Proximity to Subway ('T') Stations"
   ]
  },
  {
   "cell_type": "markdown",
   "id": "9e2f9bee-c9eb-4c28-a8a3-9950000a1198",
   "metadata": {},
   "source": [
    "## 3.1 - Get a List of All the T Stations/Stops\n",
    "\n",
    "The site listed previously qill be scraped to get the list of stations's urls.  Each url will then be scraped for the address."
   ]
  },
  {
   "cell_type": "code",
   "execution_count": 6,
   "id": "9e01bdc5-c49f-413a-8dd5-5ec0ba6003df",
   "metadata": {},
   "outputs": [
    {
     "data": {
      "text/plain": [
       "200"
      ]
     },
     "execution_count": 6,
     "metadata": {},
     "output_type": "execute_result"
    }
   ],
   "source": [
    "# Store the base url from which all T-stop data will be retrieved\n",
    "base_url = 'https://www.mbta.com/stops/subway'\n",
    "\n",
    "# Connect to the web page:\n",
    "res = requests.get(base_url)\n",
    "\n",
    "# Pull the website text HTML string out\n",
    "html = res.text\n",
    "\n",
    "# Create that Beautiful Soup Instance!  Choosing 'lxml' as the parser.\n",
    "soup = BeautifulSoup(html, 'lxml')\n",
    "\n",
    "res.status_code"
   ]
  },
  {
   "cell_type": "code",
   "execution_count": 7,
   "id": "e92d8a50-f5f5-4048-ae66-0d7f47a30392",
   "metadata": {
    "scrolled": true,
    "tags": []
   },
   "outputs": [
    {
     "name": "stdout",
     "output_type": "stream",
     "text": [
      "132\n"
     ]
    },
    {
     "data": {
      "text/plain": [
       "['/stops/place-alfcl',\n",
       " '/stops/place-andrw',\n",
       " '/stops/place-asmnl',\n",
       " '/stops/place-brntn',\n",
       " '/stops/place-brdwy',\n",
       " '/stops/place-cntsq',\n",
       " '/stops/place-chmnl',\n",
       " '/stops/place-davis',\n",
       " '/stops/place-dwnxg',\n",
       " '/stops/place-fldcr',\n",
       " '/stops/place-harsq',\n",
       " '/stops/place-jfk',\n",
       " '/stops/place-knncl',\n",
       " '/stops/place-nqncy',\n",
       " '/stops/place-pktrm',\n",
       " '/stops/place-portr',\n",
       " '/stops/place-qamnl',\n",
       " '/stops/place-qnctr',\n",
       " '/stops/place-shmnl',\n",
       " '/stops/place-smmnl',\n",
       " '/stops/place-sstat',\n",
       " '/stops/place-wlsta',\n",
       " '/stops/place-asmnl',\n",
       " '/stops/place-butlr',\n",
       " '/stops/place-capst',\n",
       " '/stops/place-cedgr',\n",
       " '/stops/place-cenav',\n",
       " '/stops/place-matt',\n",
       " '/stops/place-miltt',\n",
       " '/stops/place-valrd',\n",
       " '/stops/place-astao',\n",
       " '/stops/place-bbsta',\n",
       " '/stops/place-chncl',\n",
       " '/stops/place-ccmnl',\n",
       " '/stops/place-dwnxg',\n",
       " '/stops/place-forhl',\n",
       " '/stops/place-grnst',\n",
       " '/stops/place-haecl',\n",
       " '/stops/place-jaksn',\n",
       " '/stops/place-mlmnl',\n",
       " '/stops/place-masta',\n",
       " '/stops/place-north',\n",
       " '/stops/place-ogmnl',\n",
       " '/stops/place-rcmnl',\n",
       " '/stops/place-rugg',\n",
       " '/stops/place-state',\n",
       " '/stops/place-sbmnl',\n",
       " '/stops/place-sull',\n",
       " '/stops/place-tumnl',\n",
       " '/stops/place-welln',\n",
       " '/stops/place-alsgr',\n",
       " '/stops/place-amory',\n",
       " '/stops/place-armnl',\n",
       " '/stops/place-babck',\n",
       " '/stops/place-bckhl',\n",
       " '/stops/place-balsq',\n",
       " '/stops/place-bcnfd',\n",
       " '/stops/place-bland',\n",
       " '/stops/place-lake',\n",
       " '/stops/place-bucen',\n",
       " '/stops/place-buest',\n",
       " '/stops/place-boyls',\n",
       " '/stops/place-bndhl',\n",
       " '/stops/place-brmnl',\n",
       " '/stops/place-brkhl',\n",
       " '/stops/place-bvmnl',\n",
       " '/stops/place-chhil',\n",
       " '/stops/place-chill',\n",
       " '/stops/place-chswk',\n",
       " '/stops/place-clmnl',\n",
       " '/stops/place-cool',\n",
       " '/stops/place-coecl',\n",
       " '/stops/place-denrd',\n",
       " '/stops/place-esomr',\n",
       " '/stops/place-eliot',\n",
       " '/stops/place-engav',\n",
       " '/stops/place-fbkst',\n",
       " '/stops/place-fenwy',\n",
       " '/stops/place-fenwd',\n",
       " '/stops/place-gilmn',\n",
       " '/stops/place-gover',\n",
       " '/stops/place-grigg',\n",
       " '/stops/place-harvd',\n",
       " '/stops/place-hwsst',\n",
       " '/stops/place-haecl',\n",
       " '/stops/place-hsmnl',\n",
       " '/stops/place-hymnl',\n",
       " '/stops/place-kencl',\n",
       " '/stops/place-kntst',\n",
       " '/stops/place-lech',\n",
       " '/stops/place-longw',\n",
       " '/stops/place-lngmd',\n",
       " '/stops/place-mgngl',\n",
       " '/stops/place-mdftf',\n",
       " '/stops/place-mispk',\n",
       " '/stops/place-mfa',\n",
       " '/stops/place-newto',\n",
       " '/stops/place-newtn',\n",
       " '/stops/place-north',\n",
       " '/stops/place-nuniv',\n",
       " '/stops/place-brico',\n",
       " '/stops/place-pktrm',\n",
       " '/stops/place-prmnl',\n",
       " '/stops/place-rsmnl',\n",
       " '/stops/place-river',\n",
       " '/stops/place-rvrwy',\n",
       " '/stops/place-smary',\n",
       " '/stops/place-stpul',\n",
       " '/stops/place-spmnl',\n",
       " '/stops/place-sougr',\n",
       " '/stops/place-sumav',\n",
       " '/stops/place-sthld',\n",
       " '/stops/place-symcl',\n",
       " '/stops/place-tapst',\n",
       " '/stops/place-unsqu',\n",
       " '/stops/place-waban',\n",
       " '/stops/place-wrnst',\n",
       " '/stops/place-bcnwa',\n",
       " '/stops/place-wascm',\n",
       " '/stops/place-woodl',\n",
       " '/stops/place-aport',\n",
       " '/stops/place-aqucl',\n",
       " '/stops/place-bmmnl',\n",
       " '/stops/place-bomnl',\n",
       " '/stops/place-gover',\n",
       " '/stops/place-mvbcl',\n",
       " '/stops/place-orhte',\n",
       " '/stops/place-rbmnl',\n",
       " '/stops/place-state',\n",
       " '/stops/place-sdmnl',\n",
       " '/stops/place-wondl',\n",
       " '/stops/place-wimnl']"
      ]
     },
     "execution_count": 7,
     "metadata": {},
     "output_type": "execute_result"
    }
   ],
   "source": [
    "# From the site code, the urls for the stops are under the class specified below\n",
    "a_list = soup.find_all('a', {'class': 'btn button stop-btn m-detailed-stop'})\n",
    "\n",
    "# The href is then the url for each stop\n",
    "stn_urls = [station['href'] for station in a_list]\n",
    "print(len(stn_urls))\n",
    "stn_urls"
   ]
  },
  {
   "cell_type": "code",
   "execution_count": 8,
   "id": "8d54b692-02c8-4542-a256-9dba08e25282",
   "metadata": {},
   "outputs": [
    {
     "name": "stdout",
     "output_type": "stream",
     "text": [
      "https://www.mbta.com\n"
     ]
    }
   ],
   "source": [
    "# Create the url for the station\n",
    "\n",
    "'''\n",
    "For whatever reason, the base url for each specific station drops the '/stops/subway'\n",
    "portion of the base url.  This is corrected by creating a new base url\n",
    "'''\n",
    "# Create the new base url\n",
    "base_url_new = base_url.replace('/stops/subway', '')\n",
    "print(base_url_new)\n",
    "\n",
    "# Now take everything above and loop through it but add a wait time\n",
    "    # Source:  https://stackoverflow.com/questions/24409861/tell-python-to-wait-pause-a-for-loop\n",
    "\n",
    "add_list = []\n",
    "    \n",
    "for station in stn_urls:\n",
    "    # Create the url for the first T-stop\n",
    "    stn_url = base_url_new + station\n",
    "\n",
    "    # Connect to T-stop page\n",
    "    res_stn = requests.get(stn_url)\n",
    "\n",
    "    # Pull the website text HTML string out for the station/t-stop\n",
    "    html_stn = res_stn.text\n",
    "\n",
    "    # Create the soup object\n",
    "    soup_stn = BeautifulSoup(html_stn, 'lxml')\n",
    "\n",
    "    # Extract the address text:\n",
    "    add_list.append(soup_stn.find_all('div', {'class': 'h3'})[0].text)\n",
    "    \n",
    "    # Add a wait time of 1 second\n",
    "    time.sleep(1)"
   ]
  },
  {
   "cell_type": "code",
   "execution_count": 9,
   "id": "079487bc-ed95-4594-b46c-5c599f38e26f",
   "metadata": {},
   "outputs": [],
   "source": [
    "# Store the data to a dataframe and save as a .csv in-case you get blocked\n",
    "#  after needing to rerun this code multiple times.\n",
    "t_stop_adrs = pd.DataFrame(pd.Series(add_list), columns = ['address'])\n",
    "t_stop_adrs.to_csv('../data/t_stop_addresses.csv', index = False)"
   ]
  },
  {
   "cell_type": "markdown",
   "id": "6436a596-3936-4547-b4d5-2936a425af42",
   "metadata": {},
   "source": [
    "## 3.2 - Geocoding API"
   ]
  },
  {
   "cell_type": "code",
   "execution_count": 10,
   "id": "338cfc37-7cbe-46de-bef0-195116aab812",
   "metadata": {},
   "outputs": [],
   "source": [
    "# I think we need this url per the following source:\n",
    "#  https://developers.google.com/maps/documentation/geocoding/get-api-key\n",
    "\n",
    "# This is the url they give you for formatting:\n",
    "    # 'https://maps.googleapis.com/maps/api/geocode/json?address=1600+Amphitheatre+Parkway,+Mountain+View,+CA&key=YOUR_API_KEY'\n",
    "api_key = config.api_key;"
   ]
  },
  {
   "cell_type": "markdown",
   "id": "e9af1700-cef0-4ec5-bfaa-f36e83ee011e",
   "metadata": {},
   "source": [
    "### 3.2.1 - Test Out a Request"
   ]
  },
  {
   "cell_type": "code",
   "execution_count": 11,
   "id": "1139d63a-7092-43d9-8d5b-38e52a80e4c9",
   "metadata": {},
   "outputs": [],
   "source": [
    "# The code below was copied exactly from the following source, just ot make sure that it works:\n",
    "    # https://github.com/googlemaps/google-maps-services-python\n",
    "\n",
    "gmaps = googlemaps.Client(key=api_key)\n",
    "\n",
    "# Geocoding an address\n",
    "geocode_result = gmaps.geocode('Alewife Brook Pkwy and Cambridge Park Dr, Cambridge, MA 02140')"
   ]
  },
  {
   "cell_type": "code",
   "execution_count": 12,
   "id": "e2157cca-8e47-4575-b1d0-4f659a9a4506",
   "metadata": {},
   "outputs": [
    {
     "data": {
      "text/plain": [
       "[{'address_components': [{'long_name': 'Alewife Brook Parkway & Cambridgepark Drive',\n",
       "    'short_name': 'Alewife Brook Pkwy & Cambridgepark Dr',\n",
       "    'types': ['intersection']},\n",
       "   {'long_name': 'North Cambridge',\n",
       "    'short_name': 'North Cambridge',\n",
       "    'types': ['neighborhood', 'political']},\n",
       "   {'long_name': 'Cambridge',\n",
       "    'short_name': 'Cambridge',\n",
       "    'types': ['locality', 'political']},\n",
       "   {'long_name': 'Middlesex County',\n",
       "    'short_name': 'Middlesex County',\n",
       "    'types': ['administrative_area_level_2', 'political']},\n",
       "   {'long_name': 'Massachusetts',\n",
       "    'short_name': 'MA',\n",
       "    'types': ['administrative_area_level_1', 'political']},\n",
       "   {'long_name': 'United States',\n",
       "    'short_name': 'US',\n",
       "    'types': ['country', 'political']},\n",
       "   {'long_name': '02140', 'short_name': '02140', 'types': ['postal_code']}],\n",
       "  'formatted_address': 'Alewife Brook Pkwy & Cambridgepark Dr, Cambridge, MA 02140, USA',\n",
       "  'geometry': {'location': {'lat': 42.3947455, 'lng': -71.14048149999999},\n",
       "   'location_type': 'GEOMETRIC_CENTER',\n",
       "   'viewport': {'northeast': {'lat': 42.3960944802915,\n",
       "     'lng': -71.1391325197085},\n",
       "    'southwest': {'lat': 42.3933965197085, 'lng': -71.1418304802915}}},\n",
       "  'place_id': 'Ej9BbGV3aWZlIEJyb29rIFBrd3kgJiBDYW1icmlkZ2VwYXJrIERyLCBDYW1icmlkZ2UsIE1BIDAyMTQwLCBVU0EiZiJkChQKEgm5oPOeCHfjiRGjzAajHbGkEBIUChIJuaDzngh344kRo8wGox2xpBAaFAoSCS2P77gDd-OJETIpYOzB1r9-GhQKEglv-n99CHfjiRF0vjMG8tQS1CIKDb_sRBkV8dKY1Q',\n",
       "  'types': ['intersection']}]"
      ]
     },
     "execution_count": 12,
     "metadata": {},
     "output_type": "execute_result"
    }
   ],
   "source": [
    "# View the Result\n",
    "geocode_result"
   ]
  },
  {
   "cell_type": "code",
   "execution_count": 13,
   "id": "cb8fbf17-702a-410a-aed7-15afbc8eb7a1",
   "metadata": {},
   "outputs": [
    {
     "data": {
      "text/plain": [
       "{'lat': 42.3947455, 'lng': -71.14048149999999}"
      ]
     },
     "execution_count": 13,
     "metadata": {},
     "output_type": "execute_result"
    }
   ],
   "source": [
    "# Here, the latitude and longitude can be extracted:\n",
    "#  Help with selecting the appropriate coordinates from:  https://stackoverflow.com/questions/43194789/whats-the-difference-between-location-and-viewport-coordinates-when-geocoding-wi\n",
    "geocode_result[0]['geometry']['location']"
   ]
  },
  {
   "cell_type": "markdown",
   "id": "c59dd110-8ff1-4f1a-832e-121819c4f899",
   "metadata": {},
   "source": [
    "## 3.3 - Create a Loop to Perform All Requests and Extract Lat/Long Data"
   ]
  },
  {
   "cell_type": "code",
   "execution_count": 14,
   "id": "7051c9ee-aaef-43a5-b458-b6b3ad55d2ed",
   "metadata": {},
   "outputs": [],
   "source": [
    "# Geocode each address and store the results to a list\n",
    "\n",
    "# Create an empty list to store the geodata:\n",
    "geocode_res = []\n",
    "\n",
    "for station in add_list:\n",
    "    \n",
    "    # Input the address and search\n",
    "    stn_geocode_result = gmaps.geocode(station)\n",
    "    \n",
    "    # Append to a list\n",
    "    geocode_res.append(stn_geocode_result)\n",
    "    \n",
    "    # Add a wait time\n",
    "    time.sleep(0.1)"
   ]
  },
  {
   "cell_type": "code",
   "execution_count": 15,
   "id": "47b12a90-36d1-4c05-9818-276a909cbdf5",
   "metadata": {},
   "outputs": [],
   "source": [
    "# Unpack the latitude and longitude\n",
    "latitudes = [place[0]['geometry']['location']['lat'] for place in geocode_res]\n",
    "longitudes = [place[0]['geometry']['location']['lng'] for place in geocode_res]"
   ]
  },
  {
   "cell_type": "code",
   "execution_count": 16,
   "id": "c3531ee9-a1e2-4767-80ac-42d0a4234a19",
   "metadata": {},
   "outputs": [],
   "source": [
    "# Create a dataframe and store the data to a .csv for the same reasons as the addresses\n",
    "lat_lng_df = pd.DataFrame(np.array([latitudes, longitudes]), index = ['lat', 'long']).T\n",
    "lat_lng_df.to_csv('../data/lat_lng_data.csv', index = False)"
   ]
  },
  {
   "cell_type": "markdown",
   "id": "4052afb6-c83f-42b4-bc9d-82fea92f5f30",
   "metadata": {},
   "source": [
    "# 4 - Calculate Euclidean Distinaces to T-Stops"
   ]
  },
  {
   "cell_type": "code",
   "execution_count": 17,
   "id": "9520b5f6-1c0a-45e5-8faa-0af75053cf44",
   "metadata": {},
   "outputs": [],
   "source": [
    "# This funciton was written around the following source:\n",
    "# https://towardsdatascience.com/create-new-column-based-on-other-columns-pandas-5586d87de73d\n",
    "\n",
    "def min_dist(fn_lat, fn_lng, lat_data, lng_data):\n",
    "    \n",
    "    '''\n",
    "    The average latitude of all Boston Airbnb listings is about 42.3 degrees.  At this latitude,\n",
    "    one degree of latitude is a larger distance than one degree of longitude.  Thus, if the\n",
    "    latitude and longitude angular displacements between two locations are equal, their distances\n",
    "    are not.  A distance correction factor needs to be added in to correct this discrepancy.  It\n",
    "    will be multiplied by the longitude values to get latitidue and longitude in the same equivalent\n",
    "    distance scale.\n",
    "    '''\n",
    "    \n",
    "    # Source for calculating cosine\n",
    "    # https://www.geeksforgeeks.org/python-math-cos-function/\n",
    "    # Source for pi:  https://www.w3schools.com/python/ref_math_pi.asp\n",
    "    dist_correction_factor = math.cos(42.3*math.pi/180)\n",
    "    \n",
    "    # Set a minimum distnace well beyond anything that would be derived\n",
    "    min_dist = 90\n",
    "    \n",
    "    # Write a loop to find the minimum (euclidean) distance to every T-stop\n",
    "    for n in range(len(latitudes)):\n",
    "        dist = ((fn_lat - lat_data[n])**2 + (dist_correction_factor * (fn_lng - lng_data[n]))**2)**0.5\n",
    "        \n",
    "        # Store this distance if smaller than min distance\n",
    "        if dist < min_dist:\n",
    "            min_dist = dist\n",
    "    \n",
    "    return min_dist"
   ]
  },
  {
   "cell_type": "code",
   "execution_count": 18,
   "id": "03cd6ad7-a11a-4809-ae38-087764071431",
   "metadata": {},
   "outputs": [],
   "source": [
    "# Crate a new column with the minimum distance to any T-stop\n",
    "#  The following source was used to help write this code (note axis = 1 is KEY!):\n",
    "    # https://towardsdatascience.com/create-new-column-based-on-other-columns-pandas-5586d87de73d\n",
    "lstn['min_distance'] = lstn.apply(lambda x: min_dist(x.latitude, x.longitude, latitudes, longitudes), axis = 1)"
   ]
  },
  {
   "cell_type": "markdown",
   "id": "53107c43-be04-413d-87df-4968c8863624",
   "metadata": {},
   "source": [
    "# 5 - Plot Minimum Distance vs. Price and Calculate Correlations"
   ]
  },
  {
   "cell_type": "code",
   "execution_count": 19,
   "id": "53f2ef21-5cb1-4ee8-a005-78e6283f1c79",
   "metadata": {},
   "outputs": [
    {
     "data": {
      "image/png": "[encoded data removed]",
      "text/plain": [
       "<Figure size 1500x400 with 3 Axes>"
      ]
     },
     "metadata": {},
     "output_type": "display_data"
    }
   ],
   "source": [
    "# PLot the price versus the minimum distance to a T-stop\n",
    "plot_vs_log(lstn['min_distance'], lstn.price)"
   ]
  },
  {
   "cell_type": "markdown",
   "id": "1d6ae0e9-1ef6-495f-8a16-eaf01f109d96",
   "metadata": {},
   "source": [
    "## 5.1 - Observations:\n",
    "* Correlations between minimum t_stop distance and log price are very weak\n",
    "* Correlations between log distance and log price are only slightly better\n",
    "\n",
    "These data will be incorporated in the following notebook."
   ]
  }
 ],
 "metadata": {
  "kernelspec": {
   "display_name": "Python 3 (ipykernel)",
   "language": "python",
   "name": "python3"
  },
  "language_info": {
   "codemirror_mode": {
    "name": "ipython",
    "version": 3
   },
   "file_extension": ".py",
   "mimetype": "text/x-python",
   "name": "python",
   "nbconvert_exporter": "python",
   "pygments_lexer": "ipython3",
   "version": "3.10.9"
  }
 },
 "nbformat": 4,
 "nbformat_minor": 5
}
